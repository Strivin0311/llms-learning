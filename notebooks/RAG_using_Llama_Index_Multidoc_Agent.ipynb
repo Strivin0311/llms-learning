{
  "nbformat": 4,
  "nbformat_minor": 0,
  "metadata": {
    "colab": {
      "provenance": [],
      "authorship_tag": "ABX9TyPUZj1zzKjIILyTHPOtMUgD",
      "include_colab_link": true
    },
    "kernelspec": {
      "name": "python3",
      "display_name": "Python 3"
    },
    "language_info": {
      "name": "python"
    }
  },
  "cells": [
    {
      "cell_type": "markdown",
      "metadata": {
        "id": "view-in-github",
        "colab_type": "text"
      },
      "source": [
        "<a href=\"https://colab.research.google.com/github/sugarforever/Advanced-RAG/blob/main/03_llama_index_multi_doc_agent.ipynb\" target=\"_parent\"><img src=\"https://colab.research.google.com/assets/colab-badge.svg\" alt=\"Open In Colab\"/></a>"
      ]
    },
    {
      "cell_type": "markdown",
      "source": [
        "# Llama-Index Multi-Document Agent\n",
        "\n",
        "It's straightforward to build a RAG application on a single document. But when it comes to multiple documents, it's a different story.\n",
        "\n",
        "In this tutorial, we will learn how to use Llama-Index to build a RAG application that can answer user questions that require cross query on multiple documents.\n",
        "\n",
        "The core LlamaIndex components required in this tutorial are as follows:\n",
        "\n",
        "- VectorStoreIndex\n",
        "- SummaryIndex\n",
        "- ObjectIndex\n",
        "- QueryEngineTool\n",
        "- OpenAIAgent\n",
        "- FnRetrieverOpenAIAgent\n"
      ],
      "metadata": {
        "id": "wXoO6jXcAH3x"
      }
    },
    {
      "cell_type": "code",
      "execution_count": 1,
      "metadata": {
        "colab": {
          "base_uri": "https://localhost:8080/"
        },
        "id": "zYRlFZOL_sJx",
        "outputId": "4d21b91a-9793-4ff6-e3b2-859edb71ea38"
      },
      "outputs": [
        {
          "output_type": "stream",
          "name": "stdout",
          "text": [
            "\u001b[2K     \u001b[90m━━━━━━━━━━━━━━━━━━━━━━━━━━━━━━━━━━━━━━━━\u001b[0m \u001b[32m900.5/900.5 kB\u001b[0m \u001b[31m11.0 MB/s\u001b[0m eta \u001b[36m0:00:00\u001b[0m\n",
            "\u001b[2K     \u001b[90m━━━━━━━━━━━━━━━━━━━━━━━━━━━━━━━━━━━━━━━━\u001b[0m \u001b[32m143.0/143.0 kB\u001b[0m \u001b[31m13.5 MB/s\u001b[0m eta \u001b[36m0:00:00\u001b[0m\n",
            "\u001b[2K     \u001b[90m━━━━━━━━━━━━━━━━━━━━━━━━━━━━━━━━━━━━━━━━\u001b[0m \u001b[32m75.0/75.0 kB\u001b[0m \u001b[31m7.4 MB/s\u001b[0m eta \u001b[36m0:00:00\u001b[0m\n",
            "\u001b[2K     \u001b[90m━━━━━━━━━━━━━━━━━━━━━━━━━━━━━━━━━━━━━━━━\u001b[0m \u001b[32m220.8/220.8 kB\u001b[0m \u001b[31m20.2 MB/s\u001b[0m eta \u001b[36m0:00:00\u001b[0m\n",
            "\u001b[2K     \u001b[90m━━━━━━━━━━━━━━━━━━━━━━━━━━━━━━━━━━━━━━━━\u001b[0m \u001b[32m2.0/2.0 MB\u001b[0m \u001b[31m44.2 MB/s\u001b[0m eta \u001b[36m0:00:00\u001b[0m\n",
            "\u001b[2K     \u001b[90m━━━━━━━━━━━━━━━━━━━━━━━━━━━━━━━━━━━━━━━━\u001b[0m \u001b[32m76.9/76.9 kB\u001b[0m \u001b[31m8.1 MB/s\u001b[0m eta \u001b[36m0:00:00\u001b[0m\n",
            "\u001b[2K     \u001b[90m━━━━━━━━━━━━━━━━━━━━━━━━━━━━━━━━━━━━━━━━\u001b[0m \u001b[32m58.3/58.3 kB\u001b[0m \u001b[31m5.9 MB/s\u001b[0m eta \u001b[36m0:00:00\u001b[0m\n",
            "\u001b[2K     \u001b[90m━━━━━━━━━━━━━━━━━━━━━━━━━━━━━━━━━━━━━━━━\u001b[0m \u001b[32m49.4/49.4 kB\u001b[0m \u001b[31m4.9 MB/s\u001b[0m eta \u001b[36m0:00:00\u001b[0m\n",
            "\u001b[?25h\u001b[31mERROR: pip's dependency resolver does not currently take into account all the packages that are installed. This behaviour is the source of the following dependency conflicts.\n",
            "llmx 0.0.15a0 requires cohere, which is not installed.\u001b[0m\u001b[31m\n",
            "\u001b[0m"
          ]
        }
      ],
      "source": [
        "! pip install llama-index -q -U"
      ]
    },
    {
      "cell_type": "code",
      "source": [
        "import os\n",
        "import openai\n",
        "\n",
        "os.environ[\"OPENAI_API_KEY\"] = \"your valid openai api key\"\n",
        "openai.api_key = os.environ[\"OPENAI_API_KEY\"]"
      ],
      "metadata": {
        "id": "8Bw2iRQjEk8z"
      },
      "execution_count": 2,
      "outputs": []
    },
    {
      "cell_type": "markdown",
      "source": [
        "## Example Code"
      ],
      "metadata": {
        "id": "MumturibbfBD"
      }
    },
    {
      "cell_type": "code",
      "source": [
        "from llama_index import (\n",
        "    VectorStoreIndex,\n",
        "    SummaryIndex,\n",
        "    SimpleDirectoryReader,\n",
        "    ServiceContext,\n",
        ")\n",
        "from llama_index.tools import QueryEngineTool, ToolMetadata\n",
        "from llama_index.llms import OpenAI"
      ],
      "metadata": {
        "id": "2586El8ibhjc"
      },
      "execution_count": 3,
      "outputs": []
    },
    {
      "cell_type": "code",
      "source": [
        "wiki_titles = [\n",
        "    \"Serie A\",\n",
        "    \"Premier League\",\n",
        "    \"Bundesliga\",\n",
        "    \"La Liga\",\n",
        "    \"Ligue 1\"\n",
        "]"
      ],
      "metadata": {
        "id": "W9BtxyvNnEl1"
      },
      "execution_count": 4,
      "outputs": []
    },
    {
      "cell_type": "code",
      "source": [
        "from pathlib import Path\n",
        "\n",
        "import requests\n",
        "\n",
        "for title in wiki_titles:\n",
        "    response = requests.get(\n",
        "        \"https://en.wikipedia.org/w/api.php\",\n",
        "        params={\n",
        "            \"action\": \"query\",\n",
        "            \"format\": \"json\",\n",
        "            \"titles\": title,\n",
        "            \"prop\": \"extracts\",\n",
        "            \"explaintext\": True,\n",
        "        },\n",
        "    ).json()\n",
        "    page = next(iter(response[\"query\"][\"pages\"].values()))\n",
        "    wiki_text = page[\"extract\"]\n",
        "\n",
        "    data_path = Path(\"data\")\n",
        "    if not data_path.exists():\n",
        "        Path.mkdir(data_path)\n",
        "\n",
        "    with open(data_path / f\"{title}.txt\", \"w\") as fp:\n",
        "        fp.write(wiki_text)"
      ],
      "metadata": {
        "id": "HVmr7ayEnG-6"
      },
      "execution_count": 5,
      "outputs": []
    },
    {
      "cell_type": "code",
      "source": [
        "leagues_docs = {}\n",
        "for wiki_title in wiki_titles:\n",
        "    leagues_docs[wiki_title] = SimpleDirectoryReader(\n",
        "        input_files=[f\"data/{wiki_title}.txt\"]\n",
        "    ).load_data()"
      ],
      "metadata": {
        "id": "_pC4oWUhnKVB"
      },
      "execution_count": 6,
      "outputs": []
    },
    {
      "cell_type": "code",
      "source": [
        "llm = OpenAI(temperature=0, model=\"gpt-3.5-turbo\")\n",
        "service_context = ServiceContext.from_defaults(llm=llm)"
      ],
      "metadata": {
        "colab": {
          "base_uri": "https://localhost:8080/"
        },
        "id": "aZZYj1NWnL9m",
        "outputId": "61a67bb1-2e77-4af3-ce62-9ff3d6201a7b"
      },
      "execution_count": 7,
      "outputs": [
        {
          "output_type": "stream",
          "name": "stderr",
          "text": [
            "[nltk_data] Downloading package punkt to /tmp/llama_index...\n",
            "[nltk_data]   Unzipping tokenizers/punkt.zip.\n"
          ]
        }
      ]
    },
    {
      "cell_type": "code",
      "source": [
        "from llama_index.agent import OpenAIAgent\n",
        "from llama_index import load_index_from_storage, StorageContext\n",
        "from llama_index.node_parser import SentenceSplitter\n",
        "import os\n",
        "\n",
        "node_parser = SentenceSplitter()\n",
        "\n",
        "# Build agents dictionary\n",
        "agents = {}\n",
        "query_engines = {}\n",
        "\n",
        "# this is for the baseline\n",
        "all_nodes = []\n",
        "\n",
        "for idx, wiki_title in enumerate(wiki_titles):\n",
        "    nodes = node_parser.get_nodes_from_documents(leagues_docs[wiki_title])\n",
        "    all_nodes.extend(nodes)\n",
        "\n",
        "    if not os.path.exists(f\"./data/{wiki_title}\"):\n",
        "        # build vector index\n",
        "        vector_index = VectorStoreIndex(nodes, service_context=service_context)\n",
        "        vector_index.storage_context.persist(\n",
        "            persist_dir=f\"./data/{wiki_title}\"\n",
        "        )\n",
        "    else:\n",
        "        vector_index = load_index_from_storage(\n",
        "            StorageContext.from_defaults(persist_dir=f\"./data/{wiki_title}\"),\n",
        "            service_context=service_context,\n",
        "        )\n",
        "\n",
        "    # build summary index\n",
        "    summary_index = SummaryIndex(nodes, service_context=service_context)\n",
        "    # define query engines\n",
        "    vector_query_engine = vector_index.as_query_engine()\n",
        "    summary_query_engine = summary_index.as_query_engine()\n",
        "\n",
        "    # define tools\n",
        "    query_engine_tools = [\n",
        "        QueryEngineTool(\n",
        "            query_engine=vector_query_engine,\n",
        "            metadata=ToolMetadata(\n",
        "                name=\"vector_tool\",\n",
        "                description=(\n",
        "                    \"Useful for questions related to specific aspects of\"\n",
        "                    f\" {wiki_title} (e.g. the history, teams \"\n",
        "                    \"and performance in EU, or more).\"\n",
        "                ),\n",
        "            ),\n",
        "        ),\n",
        "        QueryEngineTool(\n",
        "            query_engine=summary_query_engine,\n",
        "            metadata=ToolMetadata(\n",
        "                name=\"summary_tool\",\n",
        "                description=(\n",
        "                    \"Useful for any requests that require a holistic summary\"\n",
        "                    f\" of EVERYTHING about {wiki_title}. For questions about\"\n",
        "                    \" more specific sections, please use the vector_tool.\"\n",
        "                ),\n",
        "            ),\n",
        "        ),\n",
        "    ]\n",
        "\n",
        "    # build agent\n",
        "    function_llm = OpenAI(model=\"gpt-4\")\n",
        "    agent = OpenAIAgent.from_tools(\n",
        "        query_engine_tools,\n",
        "        llm=function_llm,\n",
        "        verbose=True,\n",
        "        system_prompt=f\"\"\"\\\n",
        "You are a specialized agent designed to answer queries about {wiki_title}.\n",
        "You must ALWAYS use at least one of the tools provided when answering a question; do NOT rely on prior knowledge.\\\n",
        "\"\"\",\n",
        "    )\n",
        "\n",
        "    agents[wiki_title] = agent\n",
        "    query_engines[wiki_title] = vector_index.as_query_engine(\n",
        "        similarity_top_k=2\n",
        "    )"
      ],
      "metadata": {
        "id": "BLZ1EV80nQOF"
      },
      "execution_count": 8,
      "outputs": []
    },
    {
      "cell_type": "code",
      "source": [
        "# define tool for each document agent\n",
        "all_tools = []\n",
        "for wiki_title in wiki_titles:\n",
        "    wiki_summary = (\n",
        "        f\"This content contains Wikipedia articles about {wiki_title}. Use\"\n",
        "        f\" this tool if you want to answer any questions about {wiki_title}.\\n\"\n",
        "    )\n",
        "    doc_tool = QueryEngineTool(\n",
        "        query_engine=agents[wiki_title],\n",
        "        metadata=ToolMetadata(\n",
        "            name=f\"tool_{wiki_title.replace(' ', '_')}\",\n",
        "            description=wiki_summary,\n",
        "        ),\n",
        "    )\n",
        "    all_tools.append(doc_tool)"
      ],
      "metadata": {
        "id": "Mm_T_N1SnXXn"
      },
      "execution_count": 12,
      "outputs": []
    },
    {
      "cell_type": "code",
      "source": [
        "# define an \"object\" index and retriever over these tools\n",
        "from llama_index import VectorStoreIndex\n",
        "from llama_index.objects import ObjectIndex, SimpleToolNodeMapping\n",
        "\n",
        "tool_mapping = SimpleToolNodeMapping.from_objects(all_tools)\n",
        "obj_index = ObjectIndex.from_objects(\n",
        "    all_tools,\n",
        "    tool_mapping,\n",
        "    VectorStoreIndex,\n",
        ")"
      ],
      "metadata": {
        "id": "T5Vskzn9nY42"
      },
      "execution_count": 10,
      "outputs": []
    },
    {
      "cell_type": "code",
      "source": [
        "from llama_index.agent import FnRetrieverOpenAIAgent\n",
        "\n",
        "top_agent = FnRetrieverOpenAIAgent.from_retriever(\n",
        "    obj_index.as_retriever(similarity_top_k=3),\n",
        "    system_prompt=\"\"\" \\\n",
        "You are an agent designed to answer queries about the European top football leagues.\n",
        "Please always use the tools provided to answer a question. Do not rely on prior knowledge.\\\n",
        "\n",
        "\"\"\",\n",
        "    verbose=True,\n",
        ")"
      ],
      "metadata": {
        "id": "jBsCUADsnaZt"
      },
      "execution_count": 11,
      "outputs": []
    },
    {
      "cell_type": "code",
      "source": [
        "response = top_agent.query(\"Tell me about the history and UCL performance of La Liga\")"
      ],
      "metadata": {
        "colab": {
          "base_uri": "https://localhost:8080/"
        },
        "id": "UpragtnandB7",
        "outputId": "7247b8fd-a9e7-467d-cbb1-14405c8fd256"
      },
      "execution_count": 13,
      "outputs": [
        {
          "output_type": "stream",
          "name": "stdout",
          "text": [
            "STARTING TURN 1\n",
            "---------------\n",
            "\n",
            "=== Calling Function ===\n",
            "Calling function: tool_La_Liga with args: {\n",
            "  \"input\": \"history\"\n",
            "}\n",
            "STARTING TURN 1\n",
            "---------------\n",
            "\n",
            "=== Calling Function ===\n",
            "Calling function: summary_tool with args: {\n",
            "  \"input\": \"history\"\n",
            "}\n",
            "Got output: During the 1930s, Athletic Club was the dominant team in La Liga, winning several titles. However, in the 1940s, Atlético Madrid, Barcelona, and Valencia emerged as strong clubs. Atlético Madrid won two titles during this decade, while Barcelona and Valencia each won multiple titles. In the 1950s, FC Barcelona continued their success, winning back-to-back La Liga titles and several other trophies. Real Madrid also emerged as a dominant force during this decade, winning three La Liga titles and dominating the newly created European Cup. Real Madrid's dominance continued into the 1960s and 1970s, winning 14 La Liga titles during this period. However, Atlético Madrid and other clubs like Valencia and Barcelona also had successful seasons during this time. In the 1980s, Real Madrid continued to dominate La Liga, winning five consecutive titles. However, the Basque clubs of Real Sociedad and Athletic Club disrupted their monopoly by winning titles in the early 1980s. Barcelona also won a title in 1985.\n",
            "========================\n",
            "\n",
            "STARTING TURN 2\n",
            "---------------\n",
            "\n",
            "Got output: La Liga, also known as the Primera Division, has a rich history dating back to the 1930s. During this time, Athletic Club was the dominant team, winning several titles. However, the 1940s saw the rise of Atlético Madrid, Barcelona, and Valencia as strong contenders, with each club winning multiple titles.\n",
            "\n",
            "The 1950s were marked by the continued success of FC Barcelona, which won back-to-back La Liga titles and several other trophies. This decade also saw the emergence of Real Madrid as a dominant force, winning three La Liga titles and dominating the newly created European Cup.\n",
            "\n",
            "Real Madrid's dominance continued into the 1960s and 1970s, during which they won 14 La Liga titles. However, Atlético Madrid, Valencia, and Barcelona also had successful seasons during this period.\n",
            "\n",
            "The 1980s saw Real Madrid continue to dominate La Liga, winning five consecutive titles. However, the Basque clubs of Real Sociedad and Athletic Club disrupted their monopoly by winning titles in the early 1980s. Barcelona also won a title in 1985.\n",
            "========================\n",
            "\n",
            "STARTING TURN 2\n",
            "---------------\n",
            "\n",
            "=== Calling Function ===\n",
            "Calling function: tool_La_Liga with args: {\n",
            "  \"input\": \"UCL performance\"\n",
            "}\n",
            "STARTING TURN 1\n",
            "---------------\n",
            "\n",
            "=== Calling Function ===\n",
            "Calling function: vector_tool with args: {\n",
            "  \"input\": \"UCL performance\"\n",
            "}\n",
            "Got output: Real Madrid, Barcelona, and Atlético Madrid have been successful clubs in European football, with multiple Champions League titles between them. Other Spanish clubs like Sevilla and Valencia have also won international trophies. La Liga has had clubs win both the Champions League and UEFA Cup in the same season, and has had multiple seasons where Spanish clubs achieved this feat. Additionally, La Liga has been successful in terms of the number of teams qualifying for the Champions League group stage.\n",
            "========================\n",
            "\n",
            "STARTING TURN 2\n",
            "---------------\n",
            "\n",
            "Got output: La Liga teams have had a significant impact in the UEFA Champions League (UCL). Real Madrid, Barcelona, and Atlético Madrid are particularly successful, with multiple UCL titles to their names. Other Spanish clubs like Sevilla and Valencia have also won international trophies. There have been instances where La Liga clubs have won both the Champions League and UEFA Cup in the same season. Furthermore, La Liga consistently sends a significant number of teams to the Champions League group stage, demonstrating the league's overall strength and competitiveness.\n",
            "========================\n",
            "\n",
            "STARTING TURN 3\n",
            "---------------\n",
            "\n"
          ]
        }
      ]
    },
    {
      "cell_type": "code",
      "source": [
        "print(response)"
      ],
      "metadata": {
        "colab": {
          "base_uri": "https://localhost:8080/"
        },
        "id": "cVYo_fUvnerF",
        "outputId": "5c1225b0-daad-4a60-b8a9-4ed266fc18d3"
      },
      "execution_count": 14,
      "outputs": [
        {
          "output_type": "stream",
          "name": "stdout",
          "text": [
            "La Liga has a rich history dating back to the 1930s. During the early years, Athletic Club was the dominant team, but in the 1940s, Atlético Madrid, Barcelona, and Valencia emerged as strong contenders. The 1950s saw the rise of FC Barcelona and the dominance of Real Madrid, which continued into the 1960s and 1970s.\n",
            "\n",
            "In terms of UEFA Champions League (UCL) performance, La Liga teams have had a significant impact. Real Madrid, Barcelona, and Atlético Madrid have been particularly successful, with multiple UCL titles to their names. Other Spanish clubs like Sevilla and Valencia have also won international trophies. La Liga consistently sends a significant number of teams to the Champions League group stage, showcasing the league's overall strength and competitiveness.\n"
          ]
        }
      ]
    },
    {
      "cell_type": "code",
      "source": [
        "response = top_agent.query(\n",
        "    \"Please compare Premier League and La Liga in terms of history and UCL performance\"\n",
        ")"
      ],
      "metadata": {
        "colab": {
          "base_uri": "https://localhost:8080/"
        },
        "id": "W1j9Wt__njJR",
        "outputId": "2895e72c-858d-4ccf-bedf-1d90949e4aea"
      },
      "execution_count": 15,
      "outputs": [
        {
          "output_type": "stream",
          "name": "stdout",
          "text": [
            "STARTING TURN 1\n",
            "---------------\n",
            "\n",
            "=== Calling Function ===\n",
            "Calling function: tool_Premier_League with args: {\n",
            "\"input\": \"history\"\n",
            "}\n",
            "STARTING TURN 1\n",
            "---------------\n",
            "\n",
            "=== Calling Function ===\n",
            "Calling function: summary_tool with args: {\n",
            "  \"input\": \"history\"\n",
            "}\n",
            "Got output: The Premier League has a rich history since its establishment in 1992 as the FA Premier League. It operates independently from the English Football League and follows a promotion and relegation system with the EFL. The league's inaugural season took place in 1992-1993 with the participation of 22 clubs, and Manchester United emerged as the first champions. Throughout the years, clubs like Manchester United, Arsenal, Chelsea, Liverpool, and Manchester City have had a significant impact on individual matches. In the 2000s, the \"Big Four\" clubs emerged, which later expanded to the \"Big Six\" with the inclusion of Tottenham Hotspur and Manchester City. A notable moment in the league's history was Leicester City's remarkable title victory in the 2015-2016 season. The Premier League is renowned for its financial strength and global influence, particularly with the \"Big Six\" clubs generating substantial revenue. There have been ongoing discussions and proposals for potential changes in the league structure in recent times.\n",
            "========================\n",
            "\n",
            "STARTING TURN 2\n",
            "---------------\n",
            "\n",
            "Got output: The Premier League, established in 1992 as the FA Premier League, operates independently from the English Football League and follows a promotion and relegation system with the EFL. The inaugural season took place in 1992-1993 with 22 clubs, and Manchester United emerged as the first champions. Throughout the years, clubs like Manchester United, Arsenal, Chelsea, Liverpool, and Manchester City have had a significant impact on individual matches. In the 2000s, the \"Big Four\" clubs emerged, which later expanded to the \"Big Six\" with the inclusion of Tottenham Hotspur and Manchester City. A notable moment in the league's history was Leicester City's remarkable title victory in the 2015-2016 season. The Premier League is renowned for its financial strength and global influence, particularly with the \"Big Six\" clubs generating substantial revenue. There have been ongoing discussions and proposals for potential changes in the league structure in recent times.\n",
            "========================\n",
            "\n",
            "STARTING TURN 2\n",
            "---------------\n",
            "\n",
            "=== Calling Function ===\n",
            "Calling function: tool_La_Liga with args: {\n",
            "\"input\": \"history\"\n",
            "}\n",
            "STARTING TURN 1\n",
            "---------------\n",
            "\n",
            "=== Calling Function ===\n",
            "Calling function: summary_tool with args: {\n",
            "  \"input\": \"history\"\n",
            "}\n",
            "Got output: In the early years of La Liga, Athletic Club was the most successful team, winning the title four times in the 1930s. However, in the 1940s, Atlético Madrid, Barcelona, and Valencia emerged as strong clubs, with Atlético Madrid winning two titles during that decade. The 1950s saw FC Barcelona's continued success, winning back-to-back La Liga titles and several other trophies. Real Madrid also emerged as a dominant force, winning three La Liga titles and dominating the newly created European Cup. Real Madrid's dominance continued into the 1960s and 1970s, winning 14 La Liga titles during that period. However, in the 1980s, the Basque clubs of Real Sociedad and Athletic Club disrupted Real Madrid's monopoly, with Real Sociedad winning two consecutive La Liga titles and Athletic Club also winning two titles. Barcelona also secured their tenth La Liga title in 1985.\n",
            "========================\n",
            "\n",
            "STARTING TURN 2\n",
            "---------------\n",
            "\n",
            "Got output: La Liga, also known as the Primera Division, has a rich history dating back to its inception in 1929. In the early years, Athletic Club was the most successful team, winning the title four times in the 1930s. However, the 1940s saw the rise of Atlético Madrid, Barcelona, and Valencia as strong contenders, with Atlético Madrid winning two titles during that decade.\n",
            "\n",
            "The 1950s were marked by FC Barcelona's continued success, as they clinched back-to-back La Liga titles and several other trophies. Real Madrid also emerged as a dominant force during this period, winning three La Liga titles and making a strong showing in the newly created European Cup.\n",
            "\n",
            "Real Madrid's dominance extended into the 1960s and 1970s, during which they secured 14 La Liga titles. However, the 1980s saw a disruption in Real Madrid's monopoly as the Basque clubs of Real Sociedad and Athletic Club came to the fore. Real Sociedad won two consecutive La Liga titles, and Athletic Club also won two titles. Barcelona also secured their tenth La Liga title in 1985.\n",
            "========================\n",
            "\n",
            "STARTING TURN 3\n",
            "---------------\n",
            "\n",
            "=== Calling Function ===\n",
            "Calling function: tool_Premier_League with args: {\n",
            "\"input\": \"UCL performance\"\n",
            "}\n",
            "STARTING TURN 1\n",
            "---------------\n",
            "\n",
            "=== Calling Function ===\n",
            "Calling function: vector_tool with args: {\n",
            "  \"input\": \"UCL performance\"\n",
            "}\n",
            "Got output: English clubs have won a total of 15 UEFA Champions League titles and have been runners-up 11 times. This makes them the second-most successful country in the history of the competition, behind Spanish clubs.\n",
            "========================\n",
            "\n",
            "STARTING TURN 2\n",
            "---------------\n",
            "\n",
            "Got output: English clubs have had a significant impact in the UEFA Champions League. They have won a total of 15 titles and have been runners-up 11 times. This makes England the second-most successful country in the history of the competition, only surpassed by Spain.\n",
            "========================\n",
            "\n",
            "STARTING TURN 4\n",
            "---------------\n",
            "\n",
            "=== Calling Function ===\n",
            "Calling function: tool_La_Liga with args: {\n",
            "\"input\": \"UCL performance\"\n",
            "}\n",
            "STARTING TURN 1\n",
            "---------------\n",
            "\n",
            "=== Calling Function ===\n",
            "Calling function: vector_tool with args: {\n",
            "  \"input\": \"UCL performance\"\n",
            "}\n",
            "Got output: Real Madrid, Barcelona, and Atlético Madrid have been successful clubs in European football, with multiple Champions League titles between them. Other Spanish clubs like Sevilla and Valencia have also won international trophies. La Liga became the first league to have its clubs win both the Champions League and UEFA Cup in the same season, and this feat was repeated multiple times. Additionally, La Liga has had a strong presence in the Champions League group stage, with multiple teams qualifying.\n",
            "========================\n",
            "\n",
            "STARTING TURN 2\n",
            "---------------\n",
            "\n",
            "Got output: La Liga teams have shown remarkable performance in the UEFA Champions League (UCL). Real Madrid, Barcelona, and Atlético Madrid are among the most successful clubs in European football, with multiple Champions League titles to their names. \n",
            "\n",
            "Real Madrid, in particular, has been a dominant force in the UCL, holding the record for the most titles won. Barcelona has also had its share of success, with several titles under its belt. Atlético Madrid, while not as successful as the other two in terms of titles won, has consistently performed well, reaching the finals on several occasions.\n",
            "\n",
            "Other Spanish clubs like Sevilla and Valencia have also made their mark in international competitions, winning trophies in other UEFA competitions.\n",
            "\n",
            "In fact, La Liga became the first league to have its clubs win both the Champions League and UEFA Cup in the same season, a feat that has been repeated multiple times. This speaks volumes about the strength and depth of the league.\n",
            "\n",
            "Moreover, La Liga has consistently had a strong presence in the Champions League group stage, with multiple teams qualifying each year. This consistent performance in the UCL underscores the competitiveness and quality of La Liga.\n",
            "========================\n",
            "\n",
            "STARTING TURN 5\n",
            "---------------\n",
            "\n"
          ]
        }
      ]
    },
    {
      "cell_type": "code",
      "source": [
        "print(response)"
      ],
      "metadata": {
        "colab": {
          "base_uri": "https://localhost:8080/"
        },
        "id": "LoozAkAhnlMn",
        "outputId": "62c5919c-0c3e-4a51-8638-e515510ba79c"
      },
      "execution_count": 16,
      "outputs": [
        {
          "output_type": "stream",
          "name": "stdout",
          "text": [
            "In terms of history, the Premier League was established in 1992 and has since become one of the most popular and financially lucrative football leagues in the world. It is known for its competitive nature and has been dominated by clubs like Manchester United, Arsenal, Chelsea, Liverpool, and Manchester City. The league has also seen remarkable moments, such as Leicester City's title victory in the 2015-2016 season.\n",
            "\n",
            "On the other hand, La Liga has a longer history, dating back to 1929. It has been home to some of the most successful and iconic clubs in football, including Real Madrid and Barcelona. The league has witnessed periods of dominance from various clubs and has seen intense rivalries between teams. Real Madrid has been particularly successful in the Champions League, winning numerous titles.\n",
            "\n",
            "In terms of UEFA Champions League (UCL) performance, both leagues have had strong showings. English clubs have won a total of 15 UCL titles, making England the second-most successful country in the competition's history. Spanish clubs, especially Real Madrid and Barcelona, have also been highly successful in the UCL. Real Madrid holds the record for the most UCL titles won, while Barcelona has also had multiple triumphs in the competition. Other Spanish clubs like Atlético Madrid, Sevilla, and Valencia have also made their mark in European competitions.\n",
            "\n",
            "Overall, both the Premier League and La Liga have rich histories and have produced successful teams in the UEFA Champions League. The Premier League is known for its competitiveness and financial strength, while La Liga has a longer history and has been home to some of the most iconic clubs in football.\n"
          ]
        }
      ]
    }
  ]
}
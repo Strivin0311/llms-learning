{
  "cells": [
    {
      "cell_type": "markdown",
      "metadata": {},
      "source": [
        "### Tutorial on Autogen"
      ]
    },
    {
      "cell_type": "markdown",
      "metadata": {},
      "source": [
        "This tutorial is based on the previous ones in the github repo [here](https://github.com/sugarforever/LangChain-Advanced/tree/main/Integrations/AutoGen)"
      ]
    },
    {
      "cell_type": "markdown",
      "metadata": {},
      "source": [
        "This tutorial runs successfully with **pyautogen==0.2.0**, **langchain==0.0.352**, **openai==1.6.1**, **pydantic==1.10.12**"
      ]
    },
    {
      "cell_type": "markdown",
      "metadata": {
        "id": "39_S0tWcB-oh"
      },
      "source": [
        "**AutoGen + LangChain Use Case - Uniswap Protocol AI Agent**\n",
        "\n",
        "**`AutoGen`** is a versatile framework that facilitates the creation of LLM applications by employing multiple agents capable of interacting with one another to tackle tasks. These AutoGen agents can be tailored to specific needs, engage in conversations, and seamlessly integrate human participation. They are adaptable to different operation modes that encompass the utilization of LLMs, human inputs, and various tools.\n",
        "\n",
        "**`LangChain`** is an open-source framework designed for software developers engaged in AI and ML. It enables them to seamlessly integrate LLM with external components, facilitating the creation of LLM-driven applications. The primary aim of LangChain is to establish connections between LLMs such as OpenAI's GPT-3.5 and GPT-4 and various external data sources, enabling the development and utilization of NLP applications.\n",
        "\n",
        "Both of them are playing key roles in the LLM application development.\n",
        "\n",
        "**NOTE**:\n",
        "\n",
        "`AutoGen` already supports RAG itself, but it's more flexible to cooperate with the expert `langchain` \n",
        "\n",
        "`Uniswap` is a decentralized exchange that allows users to trade Ethereum-based tokens."
      ]
    },
    {
      "cell_type": "markdown",
      "metadata": {},
      "source": [
        "#### step1. prepare the enviroment"
      ]
    },
    {
      "cell_type": "code",
      "execution_count": 2,
      "metadata": {
        "notebookRunGroups": {
          "groupValue": "1"
        }
      },
      "outputs": [
        {
          "data": {
            "text/plain": [
              "True"
            ]
          },
          "execution_count": 2,
          "metadata": {},
          "output_type": "execute_result"
        }
      ],
      "source": [
        "import os\n",
        "from dotenv import load_dotenv, find_dotenv\n",
        "\n",
        "load_dotenv(find_dotenv()) # the local .env file should involve the OPENAI_API_KEY to use openai models"
      ]
    },
    {
      "cell_type": "code",
      "execution_count": 3,
      "metadata": {
        "notebookRunGroups": {
          "groupValue": "1"
        }
      },
      "outputs": [],
      "source": [
        "from langchain.vectorstores import Chroma\n",
        "from langchain.embeddings import OpenAIEmbeddings\n",
        "from langchain.text_splitter import RecursiveCharacterTextSplitter\n",
        "from langchain.document_loaders import PyPDFLoader\n",
        "from langchain.memory import ConversationBufferMemory\n",
        "from langchain.llms import OpenAI\n",
        "from langchain.chains import ConversationalRetrievalChain\n",
        "\n",
        "import autogen"
      ]
    },
    {
      "cell_type": "markdown",
      "metadata": {
        "id": "rCrCnRC7cdC-"
      },
      "source": [
        "#### step2. build up a vector store with Uniswap V3 whitepaper."
      ]
    },
    {
      "cell_type": "markdown",
      "metadata": {},
      "source": [
        "the pdf file used below can be downloaded [here](https://uniswap.org/whitepaper-v3.pdf)"
      ]
    },
    {
      "cell_type": "code",
      "execution_count": 4,
      "metadata": {
        "id": "LcC3gnqXSZHs"
      },
      "outputs": [
        {
          "data": {
            "text/plain": [
              "(51,\n",
              " [Document(page_content='Uniswap v3 Core\\nMarch 2021\\nHayden Adams\\nhayden@uniswap.orgNoah Zinsmeister\\nnoah@uniswap.orgMoody Salem\\nmoody@uniswap.org\\nRiver Keefer\\nriver@uniswap.orgDan Robinson\\ndan@paradigm.xyz\\nABSTRACT\\nUniswap v3 is a noncustodial automated market maker imple-\\nmented for the Ethereum Virtual Machine. In comparison to earlier\\nversions of the protocol, Uniswap v3 provides increased capital\\nefficiency and fine-tuned control to liquidity providers, improves\\nthe accuracy and convenience of the price oracle, and has a more\\nflexible fee structure.\\n1 INTRODUCTION\\nAutomated market makers (AMMs) are agents that pool liquidity\\nand make it available to traders according to an algorithm [ 5]. Con-\\nstant function market makers (CFMMs), a broad class of AMMs of\\nwhich Uniswap is a member, have seen widespread use in the con-\\ntext of decentralized finance, where they are typically implemented\\nas smart contracts that trade tokens on a permissionless blockchain\\n[2].', metadata={'source': './data/uniswap_v3.pdf', 'page': 0}),\n",
              "  Document(page_content='text of decentralized finance, where they are typically implemented\\nas smart contracts that trade tokens on a permissionless blockchain\\n[2].\\nCFMMs as they are implemented today are often capital inef-\\nficient. In the constant product market maker formula used by\\nUniswap v1 andv2, only a fraction of the assets in the pool are\\navailable at a given price. This is inefficient, particularly when\\nassets are expected to trade close to a particular price at all times.\\nPrior attempts to address this capital efficiency issue, such as\\nCurve [ 3] and YieldSpace [ 4], have involved building pools that use\\ndifferent functions to describe the relation between reserves. This\\nrequires all liquidity providers in a given pool to adhere to a single\\nformula, and could result in liquidity fragmentation if liquidity\\nproviders want to provide liquidity within different price ranges.In this paper, we present Uniswap v3 , a novel AMM that gives\\nliquidity providers more control over the price ranges in which', metadata={'source': './data/uniswap_v3.pdf', 'page': 0}),\n",
              "  Document(page_content='providers want to provide liquidity within different price ranges.In this paper, we present Uniswap v3 , a novel AMM that gives\\nliquidity providers more control over the price ranges in which\\ntheir capital is used, with limited effect on liquidity fragmentation\\nand gas inefficiency. This design does not depend on any shared\\nassumption about the price behavior of the tokens. Uniswap v3\\nis based on the same constant product reserves curve as earlier\\nversions [1], but offers several significant new features:\\n•Concentrated Liquidity : Liquidity providers (LPs) are given\\nthe ability to concentrate their liquidity by “bounding\" it\\nwithin an arbitrary price range. This improves the pool’s\\ncapital efficiency and allows LPs to approximate their pre-\\nferred reserves curve, while still being efficiently aggregated\\nwith the rest of the pool. We describe this feature in section\\n2 and its implementation in Section 6.\\n•Flexible Fees : The swap fee is no longer locked at 0.30%.', metadata={'source': './data/uniswap_v3.pdf', 'page': 0}),\n",
              "  Document(page_content='with the rest of the pool. We describe this feature in section\\n2 and its implementation in Section 6.\\n•Flexible Fees : The swap fee is no longer locked at 0.30%.\\nRather, the fee tier for each pool (of which there can be\\nmultiple per asset pair) is set on initialization (Section 3.1).\\nThe initially supported fee tiers are 0.05%,0.30%, and 1%.\\nUNIgovernance is able to add additional values to this set.\\n•Protocol Fee Governance :UNIgovernance has more flexibility\\nin setting the fraction of swap fees collected by the protocol\\n(Section 6.2.2).\\n•Improved Price Oracle :Uniswap v3 provides a way for users\\nto query recent price accumulator values, thus avoiding the\\nneed to checkpoint the accumulator value at the exact be-\\nginning and end of the period for which a TWAP is being\\nmeasured. (Section 5.1).\\n1', metadata={'source': './data/uniswap_v3.pdf', 'page': 0}),\n",
              "  Document(page_content='Hayden Adams, Noah Zinsmeister, Moody Salem, River Keefer, and Dan Robinson\\n•Liquidity Oracle : The contracts expose a time-weighted av-\\nerage liquidity oracle (Section 5.3).\\nTheUniswap v2 core contracts are non-upgradeable by de-\\nsign, so Uniswap v3 is implemented as an entirely new set of\\ncontracts, available here. The Uniswap v3 core contracts are also\\nnon-upgradeable, with some parameters controlled by governance\\nas described in Section 4.\\n2 CONCENTRATED LIQUIDITY\\nThe defining idea of Uniswap v3 is that of concentrated liquidity :\\nliquidity bounded within some price range.\\nIn earlier versions, liquidity was distributed uniformly along the\\n𝑥·𝑦=𝑘 (2.1)\\nreserves curve, where 𝑥and𝑦are the respective reserves of two\\nassets XandY, and 𝑘is a constant [ 1]. In other words, earlier ver-\\nsions were designed to provide liquidity across the entire price\\nrange(0,∞). This is simple to implement and allows liquidity to\\nbe efficiently aggregated, but means that much of the assets held in', metadata={'source': './data/uniswap_v3.pdf', 'page': 1}),\n",
              "  Document(page_content='sions were designed to provide liquidity across the entire price\\nrange(0,∞). This is simple to implement and allows liquidity to\\nbe efficiently aggregated, but means that much of the assets held in\\na pool are never touched.\\nHaving considered this, it seems reasonable to allow LPs to\\nconcentrate their liquidity to smaller price ranges than (0,∞). We\\ncall liquidity concentrated to a finite range a position . A position\\nonly needs to maintain enough reserves to support trading within\\nits range, and therefore can act like a constant product pool with\\nlarger reserves (we call these the virtual reserves ) within that range.\\n𝑎𝑏\\n𝑐𝑦real𝑥real\\nXReservesYReservesvirtual reserves\\nFigure 1: Simulation of Virtual Liquidity\\nSpecifically, a position only needs to hold enough of asset Xto\\ncover price movement to its upper bound, because upwards price\\nmovement1corresponds to depletion of the Xreserves. Similarly,\\nit only needs to hold enough of asset Yto cover price movement', metadata={'source': './data/uniswap_v3.pdf', 'page': 1}),\n",
              "  Document(page_content='cover price movement to its upper bound, because upwards price\\nmovement1corresponds to depletion of the Xreserves. Similarly,\\nit only needs to hold enough of asset Yto cover price movement\\nto its lower bound. Fig. 1 depicts this relationship for a position on\\na range[𝑝𝑎, 𝑝𝑏]and a current price 𝑝𝑐∈[𝑝𝑎, 𝑝𝑏].𝑥realand𝑦real\\ndenote the position’s real reserves.\\nWhen the price exits a position’s range, the position’s liquidity\\nis no longer active, and no longer earns fees. At that point, its\\n1We take asset Yto be the unit of account, which corresponds to token1 in our\\nimplementation.liquidity is composed entirely of a single asset, because the reserves\\nof the other asset must have been entirely depleted. If the price ever\\nreenters the range, the liquidity becomes active again.\\nThe amount of liquidity provided can be measured by the value\\n𝐿, which is equal to√\\n𝑘. The real reserves of a position are described\\nby the curve:\\n(𝑥+𝐿√𝑝𝑏)(𝑦+𝐿√𝑝𝑎)=𝐿2(2.2)', metadata={'source': './data/uniswap_v3.pdf', 'page': 1}),\n",
              "  Document(page_content='The amount of liquidity provided can be measured by the value\\n𝐿, which is equal to√\\n𝑘. The real reserves of a position are described\\nby the curve:\\n(𝑥+𝐿√𝑝𝑏)(𝑦+𝐿√𝑝𝑎)=𝐿2(2.2)\\nThis curve is a translation of formula 2.1 such that the position is\\nsolvent exactly within its range (Fig. 2).\\n𝑎𝑏\\nXReservesYReservesvirtual reserves (2.1)\\nreal reserves (2.2)\\nFigure 2: Real Reserves\\nLiquidity providers are free to create as many positions as they\\nsee fit, each on its own price range. In this way, LPs can approximate\\nany desired distribution of liquidity on the price space (see Fig. 3\\nfor a few examples). Moreover, this serves as a mechanism to let\\nthe market decide where liquidity should be allocated. Rational LPs\\ncan reduce their capital costs by concentrating their liquidity in\\na narrow band around the current price, and adding or removing\\ntokens as the price moves to keep their liquidity active.\\n2.1 Range Orders\\nPositions on very small ranges act similarly to limit orders—if the', metadata={'source': './data/uniswap_v3.pdf', 'page': 1}),\n",
              "  Document(page_content='tokens as the price moves to keep their liquidity active.\\n2.1 Range Orders\\nPositions on very small ranges act similarly to limit orders—if the\\nrange is crossed, the position flips from being composed entirely\\nof one asset, to being composed entirely of the other asset (plus\\naccrued fees). There are two differences between this range order\\nand a traditional limit order:\\n•There is a limit to how narrow a position’s range can be.\\nWhile the price is within that range, the limit order might\\nbe partially executed.\\n•When the position has been crossed, it needs to be with-\\ndrawn. If it is not, and the price crosses back across that\\nrange, the position will be traded back, effectively reversing\\nthe trade.\\n2', metadata={'source': './data/uniswap_v3.pdf', 'page': 1}),\n",
              "  Document(page_content='Uniswap v3 Core\\n0 ∞\\nPriceLiquidity\\n(I)Uniswap v2𝑝𝑎 𝑝𝑏\\nPriceLiquidity\\n(II)A single position on [𝑝𝑎, 𝑝𝑏]PriceLiquidity\\n(III) A collection of custom positions\\nFigure 3: Example Liquidity Distributions\\n3 ARCHITECTURAL CHANGES\\nUniswap v3 makes a number of architectural changes, some of\\nwhich are necessitated by the inclusion of concentrated liquidity,\\nand some of which are independent improvements.\\n3.1 Multiple Pools Per Pair\\nInUniswap v1 andv2, every pair of tokens corresponds to a single\\nliquidity pool, which applies a uniform fee of 0.30%to all swaps.\\nWhile this default fee tier historically worked well enough for many\\ntokens, it is likely too high for some pools (such as pools between\\ntwo stablecoins), and too low for others (such as pools that include\\nhighly volatile or rarely traded tokens).\\nUniswap v3 introduces multiple pools for each pair of tokens,\\neach with a different swap fee. All pools are created by the same\\nfactory contract. The factory contract initially allows pools to be', metadata={'source': './data/uniswap_v3.pdf', 'page': 2}),\n",
              "  Document(page_content='Uniswap v3 introduces multiple pools for each pair of tokens,\\neach with a different swap fee. All pools are created by the same\\nfactory contract. The factory contract initially allows pools to be\\ncreated at three fee tiers: 0.05%,0.30%, and 1%. Additional fee tiers\\ncan be enabled by UNI governance.\\n3.2 Non-Fungible Liquidity\\n3.2.1 Non-Compounding Fees. Fees earned in earlier versions were\\ncontinuously deposited in the pool as liquidity. This meant that\\nliquidity in the pool would grow over time, even without explicit\\ndeposits, and that fee earnings compounded.\\nInUniswap v3 , due to the non-fungible nature of positions, this\\nis no longer possible. Instead, fee earnings are stored separately\\nand held as the tokens in which the fees are paid (see Section 6.2.2).\\n3.2.2 Removal of Native Liquidity Tokens. InUniswap v1 andv2,\\nthe pool contract is also an ERC-20 token contract, whose tokens\\nrepresent liquidity held in the pool. While this is convenient, it', metadata={'source': './data/uniswap_v3.pdf', 'page': 2}),\n",
              "  Document(page_content='3.2.2 Removal of Native Liquidity Tokens. InUniswap v1 andv2,\\nthe pool contract is also an ERC-20 token contract, whose tokens\\nrepresent liquidity held in the pool. While this is convenient, it\\nactually sits uneasily with the Uniswap v2 philosophy that any-\\nthing that does not need to be in the core contracts should be in the\\nperiphery, and blessing one “canonical\" ERC-20 implementation\\ndiscourages the creation of improved ERC-20 token wrappers. Ar-\\nguably, the ERC-20 token implementation should have been in the\\nperiphery, as a wrapper on a single liquidity position in the core\\ncontract.\\nThe changes made in Uniswap v3 force this issue by making\\ncompletely fungible liquidity tokens impossible. Due to the custom\\nliquidity provision feature, fees are now collected and held by thepool as individual tokens, rather than automatically reinvested as\\nliquidity in the pool.\\nAs a result, in v3, the pool contract does not implement the', metadata={'source': './data/uniswap_v3.pdf', 'page': 2}),\n",
              "  Document(page_content='liquidity in the pool.\\nAs a result, in v3, the pool contract does not implement the\\nERC-20 standard. Anyone can create an ERC-20 token contract in\\nthe periphery that makes a liquidity position more fungible, but\\nit will have to have additional logic to handle distribution of, or\\nreinvestment of, collected fees. Alternatively, anyone could create\\na periphery contract that wraps an individual liquidity position\\n(including collected fees) in an ERC-721 non-fungible token.\\n4 GOVERNANCE\\nThe factory has an owner , which is initially controlled by UNI\\ntokenholders.2The owner does not have the ability to halt the\\noperation of any of the core contracts.\\nAs in Uniswap v2 ,Uniswap v3 has a protocol fee that can be\\nturned on by UNI governance. In Uniswap v3 , UNI governance has\\nmore flexibility in choosing the fraction of swap fees that go to the\\nprotocol, and is able to choose any fraction1\\n𝑁where 4≤𝑁≤10,\\nor0. This parameter can be set on a per-pool basis.', metadata={'source': './data/uniswap_v3.pdf', 'page': 2}),\n",
              "  Document(page_content='more flexibility in choosing the fraction of swap fees that go to the\\nprotocol, and is able to choose any fraction1\\n𝑁where 4≤𝑁≤10,\\nor0. This parameter can be set on a per-pool basis.\\nUNI governance also has the ability to add additional fee tiers.\\nWhen it adds a new fee tier, it can also define the tickSpacing\\n(see Section 6.1) corresponding to that fee tier. Once a fee tier is\\nadded to the factory, it cannot be removed (and the tickSpacing\\ncannot be changed). The initial fee tiers and tick spacings supported\\nare0.05%(with a tick spacing of 10, approximately 0.10%between\\ninitializable ticks), 0.30%(with a tick spacing of 60, approximately\\n0.60%between initializable ticks), and 1%(with a tick spacing of\\n200, approximately 2.02%between ticks.\\nFinally, UNI governance has the power to transfer ownership to\\nanother address.\\n5 ORACLE UPGRADES\\nUniswap v3 includes three significant changes to the time-weighted\\naverage price (TWAP) oracle that was introduced by Uniswap v2.', metadata={'source': './data/uniswap_v3.pdf', 'page': 2}),\n",
              "  Document(page_content='another address.\\n5 ORACLE UPGRADES\\nUniswap v3 includes three significant changes to the time-weighted\\naverage price (TWAP) oracle that was introduced by Uniswap v2.\\nMost significantly, Uniswap v3 removes the need for users of\\nthe oracle to track previous values of the accumulator externally.\\nUniswap v2 requires users to checkpoint the accumulator value\\nat both the beginning and end of the time period for which they\\n2Specifically, the owner will be initialized to the Timelock contract from UNI gover-\\nnance, 0x1a9c8182c09f50c8318d769245bea52c32be35bc.\\n3', metadata={'source': './data/uniswap_v3.pdf', 'page': 2}),\n",
              "  Document(page_content='Hayden Adams, Noah Zinsmeister, Moody Salem, River Keefer, and Dan Robinson\\nwanted to compute a TWAP. Uniswap v3 brings the accumulator\\ncheckpoints into core, allowing external contracts to compute on-\\nchain TWAPs over recent periods without storing checkpoints of\\nthe accumulator value.\\nAnother change is that instead of accumulating the sum of prices,\\nallowing users to compute the arithmetic mean TWAP, Uniswap\\nv3tracks the sum of logprices, allowing users to compute the\\ngeometric mean TWAP.\\nFinally, Uniswap v3 adds a liquidity accumulator that is tracked\\nalongside the price accumulator, which accumulates1\\n𝐿for each\\nsecond. This liquidity accumulator is useful for external contracts\\nthat want to implement liquidity mining on top of Uniswap v3. It\\ncan also be used by other contracts to inform a decision on which\\nof the pools corresponding to a pair (see section 3.1) will have the\\nmost reliable TWAP.\\n5.1 Oracle Observations\\nAs in Uniswap v2 ,Uniswap v3 tracks a running accumulator of', metadata={'source': './data/uniswap_v3.pdf', 'page': 3}),\n",
              "  Document(page_content='of the pools corresponding to a pair (see section 3.1) will have the\\nmost reliable TWAP.\\n5.1 Oracle Observations\\nAs in Uniswap v2 ,Uniswap v3 tracks a running accumulator of\\nthe price at the beginning of each block, multiplied by the number\\nof seconds since the last block.\\nA pool in Uniswap v2 stores only the most recent value of this\\nprice accumulator—that is, the value as of the last block in which a\\nswap occurred. When computing average prices in Uniswap v2 , it\\nis the responsibility of the external caller to provide the previous\\nvalue of the price accumulator. With many users, each will have to\\nprovide their own methodology for checkpointing previous values\\nof the accumulator, or coordinate on a shared method to reduce\\ncosts. And there is no way to guarantee that every block in which\\nthe pool is touched will be reflected in the accumulator.\\nInUniswap v3 , the pool stores a list of previous values for the\\nprice accumulator (as well as the liquidity accumulator described', metadata={'source': './data/uniswap_v3.pdf', 'page': 3}),\n",
              "  Document(page_content='the pool is touched will be reflected in the accumulator.\\nInUniswap v3 , the pool stores a list of previous values for the\\nprice accumulator (as well as the liquidity accumulator described\\nin section 5.3). It does this by automatically checkpointing the\\naccumulator value every time the pool is touched for the first time\\nin a block, cycling through an array where the oldest checkpoint is\\neventually overwritten by a new one, similar to a circular buffer.\\nWhile this array initially only has room for a single checkpoint,\\nanyone can initialize additional storage slots to lengthen the array,\\nextending to as many as 65,536 checkpoints.3This imposes the\\none-time gas cost of initializing additional storage slots for this\\narray on whoever wants this pair to checkpoint more slots.\\nThe pool exposes the array of past observations to users, as well\\nas a convenience function for finding the (interpolated) accumulator\\nvalue at any historical timestamp within the checkpointed period.', metadata={'source': './data/uniswap_v3.pdf', 'page': 3}),\n",
              "  Document(page_content='as a convenience function for finding the (interpolated) accumulator\\nvalue at any historical timestamp within the checkpointed period.\\n5.2 Geometric Mean Price Oracle\\nUniswap v2 maintains two price accumulators—one for the price of\\ntoken0 in terms of token1, and one for the price of token1 in terms\\nof token0. Users can compute the time-weighted arithmetic mean\\nof the prices over any period, by subtracting the accumulator value\\nat the beginning of the period from the accumulator at the end of\\nthe period, then dividing the difference by the number of seconds\\nin the period. Note that accumulators for token0 andtoken1 are\\ntracked separately, since the time-weighted arithmetic mean price\\n3The maximum of 65,536 checkpoints allows fetching checkpoints for at least 9 days\\nafter they are written, assuming 13 seconds pass between each block and a checkpoint\\nis written every block.oftoken0 is not equivalent to the reciprocal of the time-weighted\\narithmetic mean price of token1 .', metadata={'source': './data/uniswap_v3.pdf', 'page': 3}),\n",
              "  Document(page_content='is written every block.oftoken0 is not equivalent to the reciprocal of the time-weighted\\narithmetic mean price of token1 .\\nUsing the time-weighted geometric mean price, as Uniswap v3\\ndoes, avoids the need to track separate accumulators for these\\nratios. The geometric mean of a set of ratios is the reciprocal of the\\ngeometric mean of their reciprocals. It is also easy to implement\\ninUniswap v3 because of its implementation of custom liquidity\\nprovision, as described in section 6. In addition, the accumulator can\\nbe stored in a smaller number of bits, since it tracks log𝑃rather than\\n𝑃, and log𝑃can represent a wide range of prices with consistent\\nprecision.4Finally, there is a theoretical argument that the time-\\nweighted geometric mean price should be a truer representation of\\nthe average price.5\\nInstead of tracking the cumulative sum of the price 𝑃,Uniswap\\nv3accumulates the cumulative sum of the current tick index ( 𝑙𝑜𝑔1.0001𝑃,', metadata={'source': './data/uniswap_v3.pdf', 'page': 3}),\n",
              "  Document(page_content='the average price.5\\nInstead of tracking the cumulative sum of the price 𝑃,Uniswap\\nv3accumulates the cumulative sum of the current tick index ( 𝑙𝑜𝑔1.0001𝑃,\\nthe logarithm of price for base 1.0001, which is precise up to 1 basis\\npoint). The accumulator at any given time is equal to the sum of\\n𝑙𝑜𝑔1.0001(𝑃)for every second in the history of the contract:\\n𝑎𝑡=𝑡Õ\\n𝑖=1log1.0001(𝑃𝑖) (5.1)\\nWe want to estimate the geometric mean time-weighted average\\nprice ( 𝑝𝑡1,𝑡2) over any period 𝑡1to𝑡2.\\n𝑃𝑡1,𝑡2=©\\xad\\n«𝑡2Ö\\n𝑖=𝑡1𝑃𝑖ª®\\n¬1\\n𝑡2−𝑡1\\n(5.2)\\nTo compute this, you can look at the accumulator’s value at 𝑡1\\nand at 𝑡2, subtract the first value from the second, divide by the\\nnumber of seconds elapsed, and compute 1.0001𝑥to compute the\\ntime weighted geometric mean price.\\nlog1.0001\\x00𝑃𝑡1,𝑡2\\x01=Í𝑡2\\n𝑖=𝑡1log1.0001(𝑃𝑖)\\n𝑡2−𝑡1(5.3)\\nlog1.0001\\x00𝑃𝑡1,𝑡2\\x01=𝑎𝑡2−𝑎𝑡1\\n𝑡2−𝑡1(5.4)\\n𝑃𝑡1,𝑡2=1.0001𝑎𝑡2−𝑎𝑡1\\n𝑡2−𝑡1 (5.5)\\n5.3 Liquidity Oracle\\nIn addition to the seconds-weighted accumulator of log1.0001𝑝𝑟𝑖𝑐𝑒 ,', metadata={'source': './data/uniswap_v3.pdf', 'page': 3}),\n",
              "  Document(page_content='𝑖=𝑡1log1.0001(𝑃𝑖)\\n𝑡2−𝑡1(5.3)\\nlog1.0001\\x00𝑃𝑡1,𝑡2\\x01=𝑎𝑡2−𝑎𝑡1\\n𝑡2−𝑡1(5.4)\\n𝑃𝑡1,𝑡2=1.0001𝑎𝑡2−𝑎𝑡1\\n𝑡2−𝑡1 (5.5)\\n5.3 Liquidity Oracle\\nIn addition to the seconds-weighted accumulator of log1.0001𝑝𝑟𝑖𝑐𝑒 ,\\nUniswap v3 also tracks a seconds-weighted accumulator of1\\n𝐿(the\\nreciprocal of the virtual liquidity currently in range) at the begin-\\nning of each block: secondsPerLiquidityCumulative (𝑠𝑝𝑙).\\nThis can be used by external liquidity mining contracts to fairly\\nallocate rewards. If an external contract wants to distribute rewards\\nat an even rate of 𝑅tokens per second to all active liquidity in the\\n4In order to support tolerable precision across all possible prices, Uniswap v2 repre-\\nsents each price as a 224-bit fixed-point number. Uniswap v3 only needs to represent\\n𝑙𝑜𝑔1.0001𝑃as a signed 24-bit number, and still can detect price movements of one tick,\\nor 1 basis point.\\n5While arithmetic mean TWAPs are much more widely used, they should theoretically', metadata={'source': './data/uniswap_v3.pdf', 'page': 3}),\n",
              "  Document(page_content='𝑙𝑜𝑔1.0001𝑃as a signed 24-bit number, and still can detect price movements of one tick,\\nor 1 basis point.\\n5While arithmetic mean TWAPs are much more widely used, they should theoretically\\nbe less accurate in measuring a geometric Brownian motion process (which is how price\\nmovements are usually modeled). The arithmetic mean of a geometric Brownian motion\\nprocess will tend to overweight higher prices (where small percentage movements\\ncorrespond to large absolute movements) relative to lower ones.\\n4', metadata={'source': './data/uniswap_v3.pdf', 'page': 3}),\n",
              "  Document(page_content='Uniswap v3 Core\\ncontract, and a position with 𝐿liquidity was active from 𝑡0to𝑡1,\\nthen its rewards for that period would be 𝑅·L·(𝑠𝑝𝑙(𝑡1)−𝑠𝑝𝑙(𝑡0)).\\nIn order to extend this so that concentrated liquidity is rewarded\\nonly when it is in range, Uniswap v3 stores a computed checkpoint\\nbased on this value every time a tick is crossed, as described in\\nsection 6.3.\\nThis accumulator can also be used by on-chain contracts to make\\ntheir oracles stronger (such as by evaluating which fee-tier pool to\\nuse the oracle from).\\n6 IMPLEMENTING CONCENTRATED\\nLIQUIDITY\\nThe rest of this paper describes how concentrated liquidity provi-\\nsion works, and gives a high-level description of how it is imple-\\nmented in the contracts.\\n6.1 Ticks and Ranges\\nTo implement custom liquidity provision, the space of possible\\nprices is demarcated by discrete ticks. Liquidity providers can pro-\\nvide liquidity in a range between any two ticks (which need not be\\nadjacent).', metadata={'source': './data/uniswap_v3.pdf', 'page': 4}),\n",
              "  Document(page_content='prices is demarcated by discrete ticks. Liquidity providers can pro-\\nvide liquidity in a range between any two ticks (which need not be\\nadjacent).\\nEach range can be specified as a pair of signed integer tick indices :\\na lower tick ( 𝑖𝑙) and an upper tick ( 𝑖𝑢). Ticks represent prices at\\nwhich the virtual liquidity of the contract can change. We will\\nassume that prices are always expressed as the price of one of the\\ntokens—called token0 —in terms of the other token— token1 . The\\nassignment of the two tokens to token0 andtoken1 is arbitrary\\nand does not affect the logic of the contract (other than through\\npossible rounding errors).\\nConceptually, there is a tick at every price 𝑝that is an integer\\npower of 1.0001. Identifying ticks by an integer index 𝑖, the price at\\neach is given by:\\n𝑝(𝑖)=1.0001𝑖(6.1)\\nThis has the desirable property of each tick being a .01% (1 basis\\npoint) price movement away from each of its neighboring ticks.', metadata={'source': './data/uniswap_v3.pdf', 'page': 4}),\n",
              "  Document(page_content='each is given by:\\n𝑝(𝑖)=1.0001𝑖(6.1)\\nThis has the desirable property of each tick being a .01% (1 basis\\npoint) price movement away from each of its neighboring ticks.\\nFor technical reasons explained in 6.2.1, however, pools actually\\ntrack ticks at every square root price that is an integer power of√\\n1.0001 . Consider the above equation, transformed into square root\\nprice space:\\n√𝑝(𝑖)=√\\n1.0001𝑖=1.0001𝑖\\n2 (6.2)\\nAs an example,√𝑝(0)—the square root price at tick 0—is 1,√𝑝(1)\\nis√\\n1.0001≈1.00005 , and√𝑝(−1)is1√\\n1.0001≈0.99995 .\\nWhen liquidity is added to a range, if one or both of the ticks\\nis not already used as a bound in an existing position, that tick is\\ninitialized .\\nNot every tick can be initialized. The pool is instantiated with a\\nparameter, tickSpacing (𝑡𝑠); only ticks with indexes that are divisi-\\nble by tickSpacing can be initialized. For example, if tickSpacing\\nis 2, then only even ticks (...-4, -2, 0, 2, 4...) can be initialized. Small', metadata={'source': './data/uniswap_v3.pdf', 'page': 4}),\n",
              "  Document(page_content='ble by tickSpacing can be initialized. For example, if tickSpacing\\nis 2, then only even ticks (...-4, -2, 0, 2, 4...) can be initialized. Small\\nchoices for tickSpacing allow tighter and more precise ranges, but\\nmay cause swaps to be more gas-intensive (since each initialized\\ntick that a swap crosses imposes a gas cost on the swapper).Whenever the price crosses an initialized tick, virtual liquidity\\nis kicked in or out. The gas cost of an initialized tick crossing is\\nconstant, and is not dependent on the number of positions being\\nkicked in or out at that tick.\\nEnsuring that the right amount of liquidity is kicked in and out\\nof the pool when ticks are crossed, and ensuring that each position\\nearns its proportional share of the fees that were accrued while\\nit was within range, requires some accounting within the pool.\\nThe pool contract uses storage variables to track state at a global\\n(per-pool) level, at a per-tick level, and at a per-position level.\\n6.2 Global State', metadata={'source': './data/uniswap_v3.pdf', 'page': 4}),\n",
              "  Document(page_content='The pool contract uses storage variables to track state at a global\\n(per-pool) level, at a per-tick level, and at a per-position level.\\n6.2 Global State\\nThe global state of the contract includes seven storage variables\\nrelevant to swaps and liquidity provision. (It has other storage\\nvariables that are used for the oracle, as described in section 5.)\\nType Variable Name Notation\\nuint128 liquidity 𝐿\\nuint160 sqrtPriceX96√\\n𝑃\\nint24 tick 𝑖𝑐\\nuint256 feeGrowthGlobal0X128 𝑓𝑔,0\\nuint256 feeGrowthGlobal1X128 𝑓𝑔,1\\nuint128 protocolFees.token0 𝑓𝑝,0\\nuint128 protocolFees.token1 𝑓𝑝,1\\nTable 1: Global State\\n6.2.1 Price and Liquidity. InUniswap v2 , each pool contract tracks\\nthe pool’s current reserves, 𝑥and𝑦. InUniswap v3 , the contract\\ncould be thought of as having virtual reserves —values for 𝑥and𝑦\\nthat allow you to describe the contract’s behavior (between two\\nadjacent ticks) as if it followed the constant product formula.\\nInstead of tracking those virtual reserves, however, the pool', metadata={'source': './data/uniswap_v3.pdf', 'page': 4}),\n",
              "  Document(page_content='that allow you to describe the contract’s behavior (between two\\nadjacent ticks) as if it followed the constant product formula.\\nInstead of tracking those virtual reserves, however, the pool\\ncontract tracks two different values: liquidity (𝐿) and sqrtPrice\\n(√\\n𝑃). These could be computed from the virtual reserves with the\\nfollowing formulas:\\n𝐿=√𝑥𝑦 (6.3)\\n√\\n𝑃=r𝑦\\n𝑥(6.4)\\nConversely, these values could be used to compute the virtual\\nreserves:\\n𝑥=𝐿√\\n𝑃(6.5)\\n𝑦=𝐿·√\\n𝑃 (6.6)\\nUsing 𝐿and√\\n𝑃is convenient because only one of them changes\\nat a time. Price (and thus√\\n𝑃) changes when swapping within a\\ntick; liquidity changes when crossing a tick, or when minting or\\nburning liquidity. This avoids some rounding errors that could be\\nencountered if tracking virtual reserves.\\nYou may notice that the formula for liquidity (based on virtual\\nreserves) is similar to the formula used to initialize the quantity of\\nliquidity tokens (based on actual reserves) in Uniswap v2. before\\n5', metadata={'source': './data/uniswap_v3.pdf', 'page': 4}),\n",
              "  Document(page_content='Hayden Adams, Noah Zinsmeister, Moody Salem, River Keefer, and Dan Robinson\\nany fees have been earned. In some ways, liquidity can be thought\\nof as virtual liquidity tokens.\\nAlternatively, liquidity can be thought of as the amount that\\ntoken1 reserves (either actual or virtual) changes for a given change\\nin√\\n𝑃:\\n𝐿=Δ𝑌\\nΔ√\\n𝑃(6.7)\\nWe track√\\n𝑃instead of 𝑃to take advantage of this relationship,\\nand to avoid having to take any square roots when computing\\nswaps, as described in section 6.2.3.\\nThe global state also tracks the current tick index as tick (𝑖𝑐), a\\nsigned integer representing the current tick (more specifically, the\\nnearest tick below the current price). This is an optimization (and\\na way of avoiding precision issues with logarithms), since at any\\ntime, you should be able to compute the current tick based on the\\ncurrent sqrtPrice . Specifically, at any given time, the following\\nequation should be true:\\n𝑖𝑐=j\\nlog√\\n1.0001√\\n𝑃k\\n(6.8)', metadata={'source': './data/uniswap_v3.pdf', 'page': 5}),\n",
              "  Document(page_content='time, you should be able to compute the current tick based on the\\ncurrent sqrtPrice . Specifically, at any given time, the following\\nequation should be true:\\n𝑖𝑐=j\\nlog√\\n1.0001√\\n𝑃k\\n(6.8)\\n6.2.2 Fees. Each pool is initialized with an immutable value, fee\\n(𝛾), representing the fee paid by swappers in units of hundredths\\nof a basis point ( 0.0001% ).\\nIt also tracks the current protocol fee, 𝜙(which is initialized to\\nzero, but can changed by UNI governance).6This number gives you\\nthe fraction of the fees paid by swappers that currently goes to the\\nprotocol rather than to liquidity providers. 𝜙only has a limited set\\nof permitted values: 0,1/4,1/5,1/6,1/7,1/8,1/9, or1/10.\\nThe global state also tracks two numbers: feeGrowthGlobal0\\n(𝑓𝑔,0) and feeGrowthGlobal1 (𝑓𝑔,1). These represent the total amount\\nof fees that have been earned per unit of virtual liquidity ( 𝐿), over\\nthe entire history of the contract. You can think of them as the total', metadata={'source': './data/uniswap_v3.pdf', 'page': 5}),\n",
              "  Document(page_content='of fees that have been earned per unit of virtual liquidity ( 𝐿), over\\nthe entire history of the contract. You can think of them as the total\\namount of fees that would have been earned by 1 unit of unbounded\\nliquidity that was deposited when the contract was first initialized.\\nThey are stored as fixed-point unsigned 128x128 numbers. Note\\nthat in Uniswap v3 , fees are collected in the tokens themselves\\nrather than in liquidity, for reasons explained in section 3.2.1.\\nFinally, the global state tracks the total accumulated uncollected\\nprotocol fee in each token, protocolFees0 (𝑓𝑝,0) and protocolFees1\\n(𝑓𝑝,1). This is an unsigned uint128 . The accumulated protocol fees\\ncan be collected by UNI governance, by calling the collectProtocol\\nfunction.\\n6.2.3 Swapping Within a Single Tick. For small enough swaps, that\\ndo not move the price past a tick, the contracts act like an 𝑥·𝑦=𝑘\\npool.\\nSuppose 𝛾is the fee, i.e., 0.003, and 𝑦𝑖𝑛as the amount of token1\\nsent in.', metadata={'source': './data/uniswap_v3.pdf', 'page': 5}),\n",
              "  Document(page_content='do not move the price past a tick, the contracts act like an 𝑥·𝑦=𝑘\\npool.\\nSuppose 𝛾is the fee, i.e., 0.003, and 𝑦𝑖𝑛as the amount of token1\\nsent in.\\nFirst, feeGrowthGlobal1 andprotocolFees1 are incremented:\\nΔ𝑓𝑔,1=𝑦𝑖𝑛·𝛾·(1−𝜙) (6.9)\\nΔ𝑓𝑝,1=𝑦𝑖𝑛·𝛾·𝜙 (6.10)\\nΔ𝑦is the increase in 𝑦(after the fee is taken out).\\n6Technically, the storage variable called “protocolFee\" is the denominator of this\\nfraction (or is zero, if 𝜙is zero).Δ𝑦=𝑦𝑖𝑛·(1−𝛾) (6.11)\\nIf you used the computed virtual reserves ( 𝑥and𝑦) for the token0\\nandtoken1 balances, then this formula could be used to find the\\namount of token0 sent out:\\n𝑥𝑒𝑛𝑑=𝑥·𝑦\\n𝑦+Δ𝑦(6.12)\\nBut remember that in v3, the contract actually tracks liquidity ( 𝐿)\\nand square root of price (√\\n𝑃) instead of 𝑥and𝑦. We could compute\\n𝑥and𝑦from those values, and then use those to calculate the\\nexecution price of the trade. But it turns out that there are simple\\nformulas that describe the relationship between Δ√\\n𝑃andΔ𝑦, for a\\ngiven 𝐿(which can be derived from formula 6.7):\\nΔ√', metadata={'source': './data/uniswap_v3.pdf', 'page': 5}),\n",
              "  Document(page_content='execution price of the trade. But it turns out that there are simple\\nformulas that describe the relationship between Δ√\\n𝑃andΔ𝑦, for a\\ngiven 𝐿(which can be derived from formula 6.7):\\nΔ√\\n𝑃=Δ𝑦\\n𝐿(6.13)\\nΔ𝑦=Δ√\\n𝑃·𝐿 (6.14)\\nThere are also simple formulas that describe the relationship\\nbetween Δ1√\\n𝑃andΔ𝑥:\\nΔ1√\\n𝑃=Δ𝑥\\n𝐿(6.15)\\nΔ𝑥=Δ1√\\n𝑃·𝐿 (6.16)\\nWhen swapping one token for the other, the pool contract can\\nfirst compute the new√\\n𝑃using formula 6.13 or 6.15, and then\\ncan compute the amount of token0 ortoken1 to send out using\\nformula 6.14 or 6.16.\\nThese formulas will work for any swap that does not push√\\n𝑃\\npast the price of the next initialized tick. If the computed Δ√\\n𝑃\\nwould cause√\\n𝑃to move past that next initialized tick, the contract\\nmust only cross up to that tick—using up only part of the swap—and\\nthen cross the tick, as described in section 6.3.1, before continuing\\nwith the rest of the swap.\\n6.2.4 Initialized Tick Bitmap. If a tick is not used as the endpoint', metadata={'source': './data/uniswap_v3.pdf', 'page': 5}),\n",
              "  Document(page_content='then cross the tick, as described in section 6.3.1, before continuing\\nwith the rest of the swap.\\n6.2.4 Initialized Tick Bitmap. If a tick is not used as the endpoint\\nof a range with any liquidity in it—that is, if the tick is uninitial-\\nized—then that tick can be skipped during swaps.\\nAs an optimization to make finding the next initialized tick more\\nefficient, the pool tracks a bitmap tickBitmap of initialized ticks.\\nThe position in the bitmap that corresponds to the tick index is set\\nto 1 if the tick is initialized, and 0 if it is not initialized.\\nWhen a tick is used as an endpoint for a new position, and that\\ntick is not currently used by any other liquidity, the tick is initialized,\\nand the corresponding bit in the bitmap is set to 1. An initialized\\ntick can become uninitialized again if all of the liquidity for which\\nit is an endpoint is removed, in which case that tick’s position on\\nthe bitmap is zeroed out.\\n6.3 Tick-Indexed State', metadata={'source': './data/uniswap_v3.pdf', 'page': 5}),\n",
              "  Document(page_content='tick can become uninitialized again if all of the liquidity for which\\nit is an endpoint is removed, in which case that tick’s position on\\nthe bitmap is zeroed out.\\n6.3 Tick-Indexed State\\nThe contract needs to store information about each tick in order to\\ntrack the amount of net liquidity that should be added or removed\\nwhen the tick is crossed, as well as to track the fees earned above\\nand below that tick.\\n6', metadata={'source': './data/uniswap_v3.pdf', 'page': 5}),\n",
              "  Document(page_content='Uniswap v3 Core\\nStart\\nS0. Check input\\nS1. Swap within current interval\\nS2. Is there remaining input or output?\\nS4. Cross next tickStop\\nS5. Execute computed swapPassFail\\nYesNo\\nFigure 4: Swap Control Flow\\nThe contract stores a mapping from tick indexes ( int24 ) to the\\nfollowing seven values:\\nType Variable Name Notation\\nint128 liquidityNet Δ𝐿\\nuint128 liquidityGross 𝐿𝑔\\nuint256 feeGrowthOutside0X128 𝑓𝑜,0\\nuint256 feeGrowthOutside1X128 𝑓𝑜,1\\nuint256 secondsOutside 𝑠𝑜\\nuint256 tickCumulativeOutside 𝑖𝑜\\nuint256 secondsPerLiquidityOutsideX128 𝑠𝑙𝑜\\nTable 2: Tick-Indexed State\\nEach tick tracks Δ𝐿, the total amount of liquidity that should\\nbe kicked in or out when the tick is crossed. The tick only needs\\nto track one signed integer: the amount of liquidity added (or, if\\nnegative, removed) when the tick is crossed going left to right. This\\nvalue does not need to be updated when the tick is crossed (but\\nonly when a position with a bound at that tick is updated).', metadata={'source': './data/uniswap_v3.pdf', 'page': 6}),\n",
              "  Document(page_content='negative, removed) when the tick is crossed going left to right. This\\nvalue does not need to be updated when the tick is crossed (but\\nonly when a position with a bound at that tick is updated).\\nWe want to be able to uninitialize a tick when there is no longer\\nany liquidity referencing that tick. Since Δ𝐿is a net value, it’s\\nnecessary to track a gross tally of liquidity referencing the tick,\\nliquidityGross . This value ensures that even if net liquidity at\\na tick is 0, we can still know if a tick is referenced by at least one\\nunderlying position or not, which tells us whether to update the\\ntick bitmap.\\nfeeGrowthOutside{0,1} are used to track how many fees were\\naccumulated within a given range. Since the formulas are the same\\nfor the fees collected in token0 and token1, we will omit that sub-\\nscript for the rest of this section.\\nYou can compute the fees earned per unit of liquidity in token 0\\nabove ( 𝑓𝑎) and below ( 𝑓𝑏) a tick 𝑖with a formula that depends on', metadata={'source': './data/uniswap_v3.pdf', 'page': 6}),\n",
              "  Document(page_content='script for the rest of this section.\\nYou can compute the fees earned per unit of liquidity in token 0\\nabove ( 𝑓𝑎) and below ( 𝑓𝑏) a tick 𝑖with a formula that depends on\\nwhether the price is currently within or outside that range—that is,\\nwhether the current tick index 𝑖𝑐is greater than or equal to 𝑖:𝑓𝑎(𝑖)=(\\n𝑓𝑔−𝑓𝑜(𝑖)𝑖𝑐≥𝑖\\n𝑓𝑜(𝑖) 𝑖𝑐<𝑖(6.17)\\n𝑓𝑏(𝑖)=(\\n𝑓𝑜(𝑖) 𝑖𝑐≥𝑖\\n𝑓𝑔−𝑓𝑜(𝑖)𝑖𝑐<𝑖(6.18)\\nWe can use these functions to compute the total amount of\\ncumulative fees per share 𝑓𝑟in the range between two ticks—a\\nlower tick 𝑖𝑙and an upper tick 𝑖𝑢:\\n𝑓𝑟=𝑓𝑔−𝑓𝑏(𝑖𝑙)−𝑓𝑎(𝑖𝑢) (6.19)\\n𝑓𝑜needs to be updated each time the tick is crossed. Specifically,\\nas a tick 𝑖is crossed in either direction, its 𝑓𝑜(for each token) should\\nbe updated as follows:\\n𝑓𝑜(𝑖):=𝑓𝑔−𝑓𝑜(𝑖) (6.20)\\n𝑓𝑜is only needed for ticks that are used as either the lower or\\nupper bound for at least one position. As a result, for efficiency, 𝑓𝑜is\\nnot initialized (and thus does not need to be updated when crossed)', metadata={'source': './data/uniswap_v3.pdf', 'page': 6}),\n",
              "  Document(page_content='upper bound for at least one position. As a result, for efficiency, 𝑓𝑜is\\nnot initialized (and thus does not need to be updated when crossed)\\nuntil a position is created that has that tick as one of its bounds.\\nWhen 𝑓𝑜is initialized for a tick 𝑖, the value—by convention—is\\nchosen as if all of the fees earned to date had occurred below that\\ntick:\\n𝑓𝑜:=(\\n𝑓𝑔𝑖𝑐≥𝑖\\n0𝑖𝑐<𝑖(6.21)\\nNote that since 𝑓𝑜values for different ticks could be initialized\\nat different times, comparisons of the 𝑓𝑜values for different ticks\\nare not meaningful, and there is no guarantee that values for 𝑓𝑜\\nwill be consistent. This does not cause a problem for per-position\\naccounting, since, as described below, all the position needs to know\\nis the growth in 𝑔within a given range since that position was last\\ntouched.\\n7', metadata={'source': './data/uniswap_v3.pdf', 'page': 6}),\n",
              "  Document(page_content='Hayden Adams, Noah Zinsmeister, Moody Salem, River Keefer, and Dan Robinson\\nFinally, the contract also stores secondsOutside (𝑠𝑜),\\nsecondsPerLiquidityOutside , and tickCumulativeOutside for\\neach tick. These values are not used within the contract, but are\\ntracked for the benefit of external contracts that need more fine-\\ngrained information about the pool’s behavior (for purposes like\\nliquidity mining).\\nAll three of these indexes work similarly to the fee growth in-\\ndexes described above. But where the feeGrowthOutside{0,1}\\nindexes track feeGrowthGlobal{0,1} , the secondsOutside index\\ntracks seconds (that is, the current timestamp),\\nsecondsPerLiquidityOutside tracks the 1/𝐿accumulator\\n(secondsPerLiquidityCumulative ) described in section 5.3, and\\ntickCumulativeOutside tracks the log1.0001𝑃accumulator de-\\nscribed in section 5.2.\\nFor example, the seconds spent above ( 𝑠𝑎) and below ( 𝑠𝑏) a given\\ntick is computed differently based on whether the current price is', metadata={'source': './data/uniswap_v3.pdf', 'page': 7}),\n",
              "  Document(page_content='scribed in section 5.2.\\nFor example, the seconds spent above ( 𝑠𝑎) and below ( 𝑠𝑏) a given\\ntick is computed differently based on whether the current price is\\nwithin that range, and the seconds spent within a range ( 𝑠𝑟) can be\\ncomputed using the values of 𝑠𝑎and𝑠𝑏:\\n𝑡𝑎(𝑖)=(\\n𝑡−𝑡𝑜(𝑖)𝑖𝑐≥𝑖\\n𝑡𝑜(𝑖) 𝑖𝑐<𝑖(6.22)\\n𝑡𝑏(𝑖)=(\\n𝑡𝑜(𝑖) 𝑖𝑐≥𝑖\\n𝑡−𝑡𝑜(𝑖)𝑖𝑐<𝑖(6.23)\\n𝑡𝑟(𝑖𝑙, 𝑖𝑢)=𝑡−𝑡𝑏(𝑖𝑙)−𝑡𝑎(𝑖𝑢) (6.24)\\nThe number of seconds spent within a range between two times\\n𝑡1and𝑡2can be computed by recording the value of 𝑠𝑟(𝑖𝑙, 𝑖𝑢)at𝑡1\\nand at 𝑡2, and subtracting the former from the latter.\\nLike 𝑓𝑜,𝑠𝑜does not need to be tracked for ticks that are not\\non the edge of any position. Therefore, it is not initialized until a\\nposition is created that is bounded by that tick. By convention, it is\\ninitialized as if every second since the Unix timestamp 0 had been\\nspent below that tick:\\n𝑡𝑜(𝑖):=(\\n𝑡 𝑖 𝑐≥𝑖\\n0𝑖𝑐<𝑖(6.25)\\nAs with 𝑓𝑜values, 𝑡𝑜values are not meaningfully comparable\\nacross different ticks. 𝑡𝑜is only meaningful in computing the num-', metadata={'source': './data/uniswap_v3.pdf', 'page': 7}),\n",
              "  Document(page_content='spent below that tick:\\n𝑡𝑜(𝑖):=(\\n𝑡 𝑖 𝑐≥𝑖\\n0𝑖𝑐<𝑖(6.25)\\nAs with 𝑓𝑜values, 𝑡𝑜values are not meaningfully comparable\\nacross different ticks. 𝑡𝑜is only meaningful in computing the num-\\nber of seconds that liquidity was within some particular range\\nbetween some defined start time (which must be after 𝑡𝑜was ini-\\ntialized for both ticks) and some end time.\\n6.3.1 Crossing a Tick. As described in section 6.2.3, Uniswap v3\\nacts like it obeys the constant product formula when swapping\\nbetween initialized ticks. When a swap crosses an initialized tick,\\nhowever, the contract needs to add or remove liquidity, to ensure\\nthat no liquidity provider is insolvent. This means the Δ𝐿is fetched\\nfrom the tick, and applied to the global 𝐿.\\nThe contract also needs to update the tick’s own state, in order\\nto track the fees earned (and seconds spent) within ranges bounded\\nby this tick. The feeGrowthOutside{0,1} andsecondsOutside\\nvalues are updated to both reflect current values, as well as the', metadata={'source': './data/uniswap_v3.pdf', 'page': 7}),\n",
              "  Document(page_content='to track the fees earned (and seconds spent) within ranges bounded\\nby this tick. The feeGrowthOutside{0,1} andsecondsOutside\\nvalues are updated to both reflect current values, as well as the\\nproper orientation relative to the current tick:\\n𝑓𝑜:=𝑓𝑔−𝑓𝑜 (6.26)𝑡𝑜:=𝑡−𝑡𝑜 (6.27)\\nOnce a tick is crossed, the swap can continue as described in\\nsection 6.2.3 until it reaches the next initialized tick.\\n6.4 Position-Indexed State\\nThe contract has a mapping from user (an address ), lower bound\\n(a tick index, int24 ), and upper bound (a tick index, int24 ) to a\\nspecific Position struct. Each Position tracks three values:\\nType Variable Name Notation\\nuint128 liquidity 𝑙\\nuint256 feeGrowthInside0LastX128 𝑓𝑟,0(𝑡0)\\nuint256 feeGrowthInside1LastX128 𝑓𝑟,1(𝑡0)\\nTable 3: Position-Indexed State\\nliquidity (𝑙) means the amount of virtual liquidity that the\\nposition represented the last time this position was touched. Specif-\\nically, liquidity could be thought of as√𝑥·𝑦, where 𝑥and𝑦are', metadata={'source': './data/uniswap_v3.pdf', 'page': 7}),\n",
              "  Document(page_content='liquidity (𝑙) means the amount of virtual liquidity that the\\nposition represented the last time this position was touched. Specif-\\nically, liquidity could be thought of as√𝑥·𝑦, where 𝑥and𝑦are\\nthe respective amounts of virtual token0 and virtual token1 that\\nthis liquidity contributes to the pool at any time that it is within\\nrange. Unlike pool shares in Uniswap v2 (where the value of each\\nshare grows over time), the units for liquidity do not change as fees\\nare accumulated; it is always measured as√𝑥·𝑦, where 𝑥and𝑦\\nare quantities of token0 and token1, respectively.\\nThis liquidity number does not reflect the fees that have been\\naccumulated since the contract was last touched, which we will\\ncalluncollected fees . Computing these uncollected fees requires\\nadditional stored values on the position, feeGrowthInside0Last\\n(𝑓𝑟,0(𝑡0)) and feeGrowthInside1Last (𝑓𝑟,1(𝑡0)), as described be-\\nlow.\\n6.4.1 setPosition. The setPosition function allows a liquidity\\nprovider to update their position.', metadata={'source': './data/uniswap_v3.pdf', 'page': 7}),\n",
              "  Document(page_content='(𝑓𝑟,0(𝑡0)) and feeGrowthInside1Last (𝑓𝑟,1(𝑡0)), as described be-\\nlow.\\n6.4.1 setPosition. The setPosition function allows a liquidity\\nprovider to update their position.\\nTwo of the arguments to setPosition —lowerTick andupperTick —\\nwhen combined with the msg.sender , together specify a position.\\nThe function takes one additional parameter, liquidityDelta ,\\nto specify how much virtual liquidity the user wants to add or (if\\nnegative) remove.\\nFirst, the function computes the uncollected fees ( 𝑓𝑢) that the\\nposition is entitled to, in each token.7The amount collected in fees\\nis credited to the user and netted against the amount that they\\nwould send in or out for their virtual liquidity deposit.\\nTo compute uncollected fees of a token, you need to know\\nhow much 𝑓𝑟for the position’s range (calculated from the range’s\\n𝑖𝑙and 𝑖𝑟as described in section 6.3) has grown since the last\\ntime fees were collected for that position. The growth in fees in', metadata={'source': './data/uniswap_v3.pdf', 'page': 7}),\n",
              "  Document(page_content='how much 𝑓𝑟for the position’s range (calculated from the range’s\\n𝑖𝑙and 𝑖𝑟as described in section 6.3) has grown since the last\\ntime fees were collected for that position. The growth in fees in\\na given range per unit of liquidity over between times 𝑡0and𝑡1\\nis simply 𝑓𝑟(𝑡1)−𝑓𝑟(𝑡0)(where 𝑓𝑟(𝑡0)is stored in the position as\\nfeeGrowthInside{0,1}Last , and 𝑓𝑟(𝑡1)can be computed from\\nthe current state of the ticks). Multiplying this by the position’s\\nliquidity gives us the total uncollected fees in token 0 for this\\nposition:\\n7Since the formulas for computing uncollected fees in each token are the same, we\\nwill omit that subscript for the rest of this section.\\n8', metadata={'source': './data/uniswap_v3.pdf', 'page': 7}),\n",
              "  Document(page_content='Uniswap v3 Core\\n𝑓𝑢=𝑙·(𝑓𝑟(𝑡1)−𝑓𝑟(𝑡0)) (6.28)\\nThen, the contract updates the position’s liquidity by adding\\nliquidityDelta . It also adds liquidityDelta to the liquidityNet\\nvalue for the tick at the bottom end of the range, and subtracts it\\nfrom the liquidityNet at the upper tick (to reflect that this new\\nliquidity would be added when the price crosses the lower tick\\ngoing up, and subtracted when the price crosses the upper tick\\ngoing up). If the pool’s current price is within the range of this\\nposition, the contract also adds liquidityDelta to the contract’s\\nglobal liquidity value.\\nFinally, the pool transfers tokens from (or, if liquidityDelta\\nis negative, to) the user, corresponding to the amount of liquidity\\nburned or minted.\\nThe amount of token0 (Δ𝑋) ortoken1 (Δ𝑌) that needs to be\\ndeposited can be thought of as the amount that would be sold from\\nthe position if the price were to move from the current price ( 𝑃) to\\nthe upper tick or lower tick (for token0 ortoken1 , respectively).', metadata={'source': './data/uniswap_v3.pdf', 'page': 8}),\n",
              "  Document(page_content='the position if the price were to move from the current price ( 𝑃) to\\nthe upper tick or lower tick (for token0 ortoken1 , respectively).\\nThese formulas can be derived from formulas 6.14 and 6.16, and\\ndepend on whether the current price is below, within, or above the\\nrange of the position:\\nΔ𝑌=\\uf8f1\\uf8f4\\uf8f4\\uf8f4\\uf8f4 \\uf8f2\\n\\uf8f4\\uf8f4\\uf8f4\\uf8f4\\uf8f30 𝑖𝑐<𝑖𝑙\\nΔ𝐿·(√\\n𝑃−p\\n𝑝(𝑖𝑙)) 𝑖𝑙≤𝑖𝑐<𝑖𝑢\\nΔ𝐿·(p\\n𝑝(𝑖𝑢)−p\\n𝑝(𝑖𝑙))𝑖𝑐≥𝑖𝑢(6.29)\\nΔ𝑋=\\uf8f1\\uf8f4\\uf8f4\\uf8f4\\uf8f4\\uf8f4 \\uf8f2\\n\\uf8f4\\uf8f4\\uf8f4\\uf8f4\\uf8f4\\uf8f3Δ𝐿·(1√\\n𝑝(𝑖𝑙)−1√\\n𝑝(𝑖𝑢))𝑖𝑐<𝑖𝑙\\nΔ𝐿·(1√\\n𝑃−1√\\n𝑝(𝑖𝑢)) 𝑖𝑙≤𝑖𝑐<𝑖𝑢\\n0 𝑖𝑐≥𝑖𝑢(6.30)REFERENCES\\n[1]Hayden Adams, Noah Zinsmeister, and Dan Robinson. 2020. Uniswap v2 Core .\\nRetrieved Feb 24, 2021 from https://uniswap.org/whitepaper.pdf\\n[2]Guillermo Angeris and Tarun Chitra. 2020. Improved Price Oracles: Constant\\nFunction Market Makers. In Proceedings of the 2nd ACM Conference on Advances\\nin Financial Technologies (AFT ’20) . Association for Computing Machinery, New\\nYork, NY, United States, 80–91. https://doi.org/10.1145/3419614.3423251', metadata={'source': './data/uniswap_v3.pdf', 'page': 8}),\n",
              "  Document(page_content='in Financial Technologies (AFT ’20) . Association for Computing Machinery, New\\nYork, NY, United States, 80–91. https://doi.org/10.1145/3419614.3423251\\n[3]Michael Egorov. 2019. StableSwap - Efficient Mechanism for Stablecoin Liquidity .\\nRetrieved Feb 24, 2021 from https://www.curve.fi/stableswap-paper.pdf\\n[4]Allan Niemerg, Dan Robinson, and Lev Livnev. 2020. YieldSpace: An Automated\\nLiquidity Provider for Fixed Yield Tokens . Retrieved Feb 24, 2021 from https:\\n//yield.is/YieldSpace.pdf\\n[5]Abraham Othman. 2012. Automated Market Making: Theory and Practice . Ph.D.\\nDissertation. Carnegie Mellon University.\\nDISCLAIMER\\nThis paper is for general information purposes only. It does not\\nconstitute investment advice or a recommendation or solicitation to\\nbuy or sell any investment and should not be used in the evaluation\\nof the merits of making any investment decision. It should not be\\nrelied upon for accounting, legal or tax advice or investment rec-', metadata={'source': './data/uniswap_v3.pdf', 'page': 8}),\n",
              "  Document(page_content='of the merits of making any investment decision. It should not be\\nrelied upon for accounting, legal or tax advice or investment rec-\\nommendations. This paper reflects current opinions of the authors\\nand is not made on behalf of Uniswap Labs, Paradigm, or their\\naffiliates and does not necessarily reflect the opinions of Uniswap\\nLabs, Paradigm, their affiliates or individuals associated with them.\\nThe opinions reflected herein are subject to change without being\\nupdated.\\n9', metadata={'source': './data/uniswap_v3.pdf', 'page': 8})])"
            ]
          },
          "execution_count": 4,
          "metadata": {},
          "output_type": "execute_result"
        }
      ],
      "source": [
        "loaders = [ PyPDFLoader('./data/uniswap_v3.pdf') ]\n",
        "docs = []\n",
        "for l in loaders:\n",
        "    docs.extend(l.load())\n",
        "text_splitter = RecursiveCharacterTextSplitter(chunk_size=1000)\n",
        "docs = text_splitter.split_documents(docs)\n",
        "len(docs), docs"
      ]
    },
    {
      "cell_type": "code",
      "execution_count": 5,
      "metadata": {
        "id": "8VoyrUwTShHw"
      },
      "outputs": [
        {
          "data": {
            "text/plain": [
              "<langchain_community.vectorstores.chroma.Chroma at 0x7f296a269730>"
            ]
          },
          "execution_count": 5,
          "metadata": {},
          "output_type": "execute_result"
        }
      ],
      "source": [
        "vectorstore = Chroma(\n",
        "    collection_name=\"full_documents\",\n",
        "    embedding_function=OpenAIEmbeddings()\n",
        ")\n",
        "vectorstore.add_documents(docs)\n",
        "vectorstore"
      ]
    },
    {
      "cell_type": "markdown",
      "metadata": {
        "id": "PxFsXiHVciOo"
      },
      "source": [
        "#### step3. set up a conversational retrieval QA chain by LangChain, based on the vector store."
      ]
    },
    {
      "cell_type": "code",
      "execution_count": 6,
      "metadata": {
        "id": "6eRvVjJITKfR"
      },
      "outputs": [],
      "source": [
        "qa = ConversationalRetrievalChain.from_llm(\n",
        "    OpenAI(temperature=0),\n",
        "    vectorstore.as_retriever(),\n",
        "    memory=ConversationBufferMemory(memory_key=\"chat_history\", return_messages=True)\n",
        ")"
      ]
    },
    {
      "cell_type": "code",
      "execution_count": 7,
      "metadata": {
        "id": "sXST-2kRTUOs"
      },
      "outputs": [],
      "source": [
        "result = qa(({\"question\": \"What is uniswap?\"}))"
      ]
    },
    {
      "cell_type": "code",
      "execution_count": 8,
      "metadata": {},
      "outputs": [
        {
          "data": {
            "text/plain": [
              "{'question': 'What is uniswap?',\n",
              " 'chat_history': [HumanMessage(content='What is uniswap?'),\n",
              "  AIMessage(content=' Uniswap is a noncustodial automated market maker implemented for the Ethereum Virtual Machine. It provides increased capital efficiency and fine-tuned control to liquidity providers, improves the accuracy and convenience of the price oracle, and has a more flexible fee structure. It was created by Hayden Adams, Noah Zinsmeister, Moody Salem, River Keefer, and Dan Robinson in March 2021.')],\n",
              " 'answer': ' Uniswap is a noncustodial automated market maker implemented for the Ethereum Virtual Machine. It provides increased capital efficiency and fine-tuned control to liquidity providers, improves the accuracy and convenience of the price oracle, and has a more flexible fee structure. It was created by Hayden Adams, Noah Zinsmeister, Moody Salem, River Keefer, and Dan Robinson in March 2021.'}"
            ]
          },
          "execution_count": 8,
          "metadata": {},
          "output_type": "execute_result"
        }
      ],
      "source": [
        "result"
      ]
    },
    {
      "cell_type": "code",
      "execution_count": 9,
      "metadata": {
        "colab": {
          "base_uri": "https://localhost:8080/",
          "height": 54
        },
        "id": "WVi6rT78Tsu_",
        "outputId": "d1808979-3d18-4847-c45a-0f3864bc8819"
      },
      "outputs": [
        {
          "name": "stdout",
          "output_type": "stream",
          "text": [
            " Uniswap is a noncustodial automated market maker implemented for the Ethereum Virtual Machine. It provides increased capital efficiency and fine-tuned control to liquidity providers, improves the accuracy and convenience of the price oracle, and has a more flexible fee structure. It was created by Hayden Adams, Noah Zinsmeister, Moody Salem, River Keefer, and Dan Robinson in March 2021.\n"
          ]
        }
      ],
      "source": [
        "print(result['answer'])"
      ]
    },
    {
      "cell_type": "markdown",
      "metadata": {
        "id": "O7VPXVI_coX4"
      },
      "source": [
        "#### step4. define a function `answer_uniswap_question`\n",
        "\n",
        "It takes a parameter `question`, calls the QA chain, and answer it by returning the answer from the chain response."
      ]
    },
    {
      "cell_type": "code",
      "execution_count": 10,
      "metadata": {
        "id": "yPThjcdFT1Lw"
      },
      "outputs": [],
      "source": [
        "def answer_uniswap_question(question):\n",
        "  response = qa({\"question\": question})\n",
        "  return response[\"answer\"]"
      ]
    },
    {
      "cell_type": "markdown",
      "metadata": {
        "id": "Wu7gjAv-c4uP"
      },
      "source": [
        "#### step5. set up AutoGen user agent and assistant agent with function calling enabled."
      ]
    },
    {
      "cell_type": "code",
      "execution_count": 11,
      "metadata": {
        "id": "ZsXuHf1fgkhl",
        "notebookRunGroups": {
          "groupValue": "1"
        }
      },
      "outputs": [],
      "source": [
        "config_list = [{\n",
        "    \"model\": \"gpt-4\",\n",
        "    \"api_key\": os.getenv('OPENAI_API_KEY')\n",
        "}]\n",
        "\n",
        "\n",
        "llm_config={\n",
        "    # \"request_timeout\": 600,\n",
        "    \"seed\": 42,\n",
        "    \"config_list\": config_list,\n",
        "    \"temperature\": 0,\n",
        "    \"functions\": [\n",
        "        {\n",
        "            \"name\": \"answer_uniswap_question\",\n",
        "            \"description\": \"Answer any Uniswap related questions\",\n",
        "            \"parameters\": {\n",
        "                \"type\": \"object\",\n",
        "                \"properties\": {\n",
        "                    \"question\": {\n",
        "                        \"type\": \"string\",\n",
        "                        \"description\": \"The question to ask in relation to Uniswap protocol\",\n",
        "                    }\n",
        "                },\n",
        "                \"required\": [\"question\"],\n",
        "            },\n",
        "        }\n",
        "    ],\n",
        "}"
      ]
    },
    {
      "cell_type": "code",
      "execution_count": 12,
      "metadata": {
        "id": "eg9g65hOgkhm"
      },
      "outputs": [],
      "source": [
        "# create an AssistantAgent instance named \"assistant\"\n",
        "assistant = autogen.AssistantAgent(\n",
        "    name=\"assistant\",\n",
        "    llm_config=llm_config,\n",
        ")\n",
        "# create a UserProxyAgent instance named \"user_proxy\"\n",
        "user_proxy = autogen.UserProxyAgent(\n",
        "    name=\"user_proxy\",\n",
        "    human_input_mode=\"NEVER\",\n",
        "    max_consecutive_auto_reply=10,\n",
        "    code_execution_config={\"work_dir\": \".\"},\n",
        "    llm_config=llm_config,\n",
        "    system_message=\"\"\"Reply TERMINATE if the task has been solved at full satisfaction.\n",
        "Otherwise, reply CONTINUE, or the reason why the task is not solved yet.\"\"\",\n",
        "    function_map={\"answer_uniswap_question\": answer_uniswap_question}\n",
        ")"
      ]
    },
    {
      "cell_type": "markdown",
      "metadata": {
        "id": "37cRtpqLdLSZ"
      },
      "source": [
        "#### step6. use the user agent to ask the agents to write an introduction blog for `Uniswap` protocol v3."
      ]
    },
    {
      "cell_type": "code",
      "execution_count": 13,
      "metadata": {
        "colab": {
          "base_uri": "https://localhost:8080/"
        },
        "id": "aCdAqig3gkhn",
        "outputId": "0deb286b-a1e4-4b56-e8c4-4ab7ea33173f"
      },
      "outputs": [
        {
          "name": "stdout",
          "output_type": "stream",
          "text": [
            "\u001b[33muser_proxy\u001b[0m (to assistant):\n",
            "\n",
            "\n",
            "I'm writing a blog to introduce the version 3 of Uniswap protocol. Find the answers to the 3 questions below and write an introduction based on them.\n",
            "\n",
            "1. What is Uniswap?\n",
            "2. What are the main changes in Uniswap version 3?\n",
            "3. How to use Uniswap?\n",
            "\n",
            "Start the work now\n",
            "\n",
            "\n",
            "--------------------------------------------------------------------------------\n",
            "\u001b[33massistant\u001b[0m (to user_proxy):\n",
            "\n",
            "\u001b[32m***** Suggested function Call: answer_uniswap_question *****\u001b[0m\n",
            "Arguments: \n",
            "\n",
            "{\n",
            "  \"question\": \"What is Uniswap?\"\n",
            "}\n",
            "\u001b[32m************************************************************\u001b[0m\n",
            "\n",
            "--------------------------------------------------------------------------------\n",
            "\u001b[35m\n",
            ">>>>>>>> EXECUTING FUNCTION answer_uniswap_question...\u001b[0m\n",
            "\u001b[33muser_proxy\u001b[0m (to assistant):\n",
            "\n",
            "\u001b[32m***** Response from calling function \"answer_uniswap_question\" *****\u001b[0m\n",
            " Uniswap v3 is a noncustodial automated market maker implemented for the Ethereum Virtual Machine. It provides increased capital efficiency and fine-tuned control to liquidity providers, improves the accuracy and convenience of the price oracle, and has a more flexible fee structure. Some of its features include concentrated liquidity, flexible fees, protocol fee governance, and improved price oracle. It also introduces multiple pools for each pair of tokens, each with a different swap fee, and allows for non-fungible liquidity and removal of native liquidity tokens.\n",
            "\u001b[32m********************************************************************\u001b[0m\n",
            "\n",
            "--------------------------------------------------------------------------------\n",
            "\u001b[33massistant\u001b[0m (to user_proxy):\n",
            "\n",
            "\u001b[32m***** Suggested function Call: answer_uniswap_question *****\u001b[0m\n",
            "Arguments: \n",
            "\n",
            "{\n",
            "  \"question\": \"What are the main changes in Uniswap version 3?\"\n",
            "}\n",
            "\u001b[32m************************************************************\u001b[0m\n",
            "\n",
            "--------------------------------------------------------------------------------\n",
            "\u001b[35m\n",
            ">>>>>>>> EXECUTING FUNCTION answer_uniswap_question...\u001b[0m\n",
            "\u001b[33muser_proxy\u001b[0m (to assistant):\n",
            "\n",
            "\u001b[32m***** Response from calling function \"answer_uniswap_question\" *****\u001b[0m\n",
            " Uniswap v3 introduces multiple pools for each pair of tokens, each with a different swap fee, and allows for concentrated liquidity within a specific price range. It also includes upgrades to the time-weighted average price oracle, making it easier for users to track previous values. Additionally, Uniswap v3 has a non-upgradeable core contract design and allows for liquidity to be aggregated from multiple addresses.\n",
            "\u001b[32m********************************************************************\u001b[0m\n",
            "\n",
            "--------------------------------------------------------------------------------\n",
            "\u001b[33massistant\u001b[0m (to user_proxy):\n",
            "\n",
            "\u001b[32m***** Suggested function Call: answer_uniswap_question *****\u001b[0m\n",
            "Arguments: \n",
            "\n",
            "{\n",
            "  \"question\": \"How to use Uniswap?\"\n",
            "}\n",
            "\u001b[32m************************************************************\u001b[0m\n",
            "\n",
            "--------------------------------------------------------------------------------\n",
            "\u001b[35m\n",
            ">>>>>>>> EXECUTING FUNCTION answer_uniswap_question...\u001b[0m\n",
            "\u001b[33muser_proxy\u001b[0m (to assistant):\n",
            "\n",
            "\u001b[32m***** Response from calling function \"answer_uniswap_question\" *****\u001b[0m\n",
            " Uniswap is a noncustodial automated market maker implemented for the Ethereum Virtual Machine. It allows liquidity providers to pool their assets and make them available to traders according to an algorithm. Uniswap v3 provides increased capital efficiency and fine-tuned control to liquidity providers, improves the accuracy and convenience of the price oracle, and has a more flexible fee structure. To use Uniswap, users can deposit their assets into a pool and receive liquidity tokens in return. These tokens can then be used to trade with other assets in the pool. Uniswap v3 also allows for concentrated liquidity, where liquidity providers can choose to concentrate their liquidity within a specific price range. Additionally, Uniswap v3 has a flexible fee structure, with multiple pools for each pair of tokens with different swap fees. Users can also participate in UNI governance to enable additional fee tiers. Uniswap v3 also includes upgrades to the time-weighted average price oracle, making it easier for users to track previous values.\n",
            "\u001b[32m********************************************************************\u001b[0m\n",
            "\n",
            "--------------------------------------------------------------------------------\n",
            "\u001b[33massistant\u001b[0m (to user_proxy):\n",
            "\n",
            "Based on the answers, here is an introduction to Uniswap v3 for your blog:\n",
            "\n",
            "Uniswap v3 is a noncustodial automated market maker designed for the Ethereum Virtual Machine. It is a decentralized protocol that allows for increased capital efficiency and fine-tuned control to liquidity providers. Uniswap v3 improves the accuracy and convenience of the price oracle and introduces a more flexible fee structure.\n",
            "\n",
            "One of the main changes in Uniswap v3 is the introduction of multiple pools for each pair of tokens, each with a different swap fee. This allows for concentrated liquidity within a specific price range, providing more control to liquidity providers. Uniswap v3 also includes upgrades to the time-weighted average price oracle, making it easier for users to track previous values. Additionally, it has a non-upgradeable core contract design and allows for liquidity to be aggregated from multiple addresses.\n",
            "\n",
            "To use Uniswap, users can deposit their assets into a pool and receive liquidity tokens in return. These tokens can then be used to trade with other assets in the pool. Uniswap v3 also allows for concentrated liquidity, where liquidity providers can choose to concentrate their liquidity within a specific price range. Users can also participate in UNI governance to enable additional fee tiers.\n",
            "\n",
            "In conclusion, Uniswap v3 is a powerful tool for decentralized finance, providing users with increased control and flexibility. Whether you're a liquidity provider looking to maximize your returns or a trader seeking the best possible prices, Uniswap v3 has something to offer.\n",
            "\n",
            "TERMINATE\n",
            "\n",
            "--------------------------------------------------------------------------------\n",
            "\u001b[33muser_proxy\u001b[0m (to assistant):\n",
            "\n",
            "TERMINATE\n",
            "\n",
            "--------------------------------------------------------------------------------\n"
          ]
        }
      ],
      "source": [
        "# the assistant receives a message from the user, which contains the task description\n",
        "user_proxy.initiate_chat(\n",
        "    assistant,\n",
        "    message=\"\"\"\n",
        "I'm writing a blog to introduce the version 3 of Uniswap protocol. Find the answers to the 3 questions below and write an introduction based on them.\n",
        "\n",
        "1. What is Uniswap?\n",
        "2. What are the main changes in Uniswap version 3?\n",
        "3. How to use Uniswap?\n",
        "\n",
        "Start the work now\n",
        "\"\"\"\n",
        ")"
      ]
    },
    {
      "cell_type": "markdown",
      "metadata": {},
      "source": [
        "#### step7. directly use the RAG component built in autogen"
      ]
    },
    {
      "cell_type": "code",
      "execution_count": 21,
      "metadata": {},
      "outputs": [],
      "source": [
        "from chromadb.utils import embedding_functions\n",
        "\n",
        "openai_embedding_function = embedding_functions.OpenAIEmbeddingFunction(api_key = os.getenv('OPENAI_API_KEY'))\n",
        "\n",
        "from langchain.text_splitter import RecursiveCharacterTextSplitter\n",
        "\n",
        "text_splitter = RecursiveCharacterTextSplitter(separators=[\"\\n\\n\", \"\\n\", \"\\r\", \"\\t\"])"
      ]
    },
    {
      "cell_type": "code",
      "execution_count": 24,
      "metadata": {},
      "outputs": [],
      "source": [
        "from autogen.agentchat.contrib.retrieve_assistant_agent import RetrieveAssistantAgent\n",
        "from autogen.agentchat.contrib.retrieve_user_proxy_agent import RetrieveUserProxyAgent\n",
        "\n",
        "llm_config = {\n",
        "    # \"request_timeout\": 600,\n",
        "    \"config_list\": config_list,\n",
        "    \"temperature\": 0\n",
        "}"
      ]
    },
    {
      "cell_type": "code",
      "execution_count": 27,
      "metadata": {},
      "outputs": [],
      "source": [
        "rag_assistant = RetrieveAssistantAgent(\n",
        "    name=\"assistant\",\n",
        "    system_message=\"You are a helpful assistant.\",\n",
        "    llm_config=llm_config,\n",
        ")\n",
        "\n",
        "rag_agent = RetrieveUserProxyAgent(\n",
        "    human_input_mode=\"NEVER\",\n",
        "    retrieve_config={\n",
        "        \"task\": \"qa\",\n",
        "        \"docs_path\": \"./data/uniswap_v3.pdf\",\n",
        "        \"collection_name\": \"rag_col\",\n",
        "        \"embedding_function\": openai_embedding_function,\n",
        "        \"custom_text_split_function\": text_splitter.split_text,\n",
        "    },\n",
        ")"
      ]
    },
    {
      "cell_type": "code",
      "execution_count": 28,
      "metadata": {},
      "outputs": [
        {
          "name": "stdout",
          "output_type": "stream",
          "text": [
            "Trying to create collection.\n"
          ]
        },
        {
          "name": "stdout",
          "output_type": "stream",
          "text": [
            "doc_ids:  [['doc_0', 'doc_2']]\n",
            "\u001b[32mAdding doc_id doc_0 to context.\u001b[0m\n",
            "\u001b[32mAdding doc_id doc_2 to context.\u001b[0m\n",
            "\u001b[33mRetrieveChatAgent\u001b[0m (to assistant):\n",
            "\n",
            "You're a retrieve augmented chatbot. You answer user's questions based on your own knowledge and the\n",
            "context provided by the user.\n",
            "If you can't answer the question with or without the current context, you should reply exactly `UPDATE CONTEXT`.\n",
            "You must give as short an answer as possible.\n",
            "\n",
            "User's question is: What are the main changes in Uniswap version 3\n",
            "\n",
            "Context is: Uniswap v3 Core\n",
            "March 2021\n",
            "Hayden Adams\n",
            "hayden@uniswap.orgNoah Zinsmeister\n",
            "noah@uniswap.orgMoody Salem\n",
            "moody@uniswap.org\n",
            "River Keefer\n",
            "river@uniswap.orgDan Robinson\n",
            "dan@paradigm.xyz\n",
            "ABSTRACT\n",
            "Uniswap v3 is a noncustodial automated market maker imple-\n",
            "mented for the Ethereum Virtual Machine. In comparison to earlier\n",
            "versions of the protocol, Uniswap v3 provides increased capital\n",
            "efficiency and fine-tuned control to liquidity providers, improves\n",
            "the accuracy and convenience of the price oracle, and has a more\n",
            "flexible fee structure.\n",
            "1 INTRODUCTION\n",
            "Automated market makers (AMMs) are agents that pool liquidity\n",
            "and make it available to traders according to an algorithm [ 5]. Con-\n",
            "stant function market makers (CFMMs), a broad class of AMMs of\n",
            "which Uniswap is a member, have seen widespread use in the con-\n",
            "text of decentralized finance, where they are typically implemented\n",
            "as smart contracts that trade tokens on a permissionless blockchain\n",
            "[2].\n",
            "CFMMs as they are implemented today are often capital inef-\n",
            "ficient. In the constant product market maker formula used by\n",
            "Uniswap v1 andv2, only a fraction of the assets in the pool are\n",
            "available at a given price. This is inefficient, particularly when\n",
            "assets are expected to trade close to a particular price at all times.\n",
            "Prior attempts to address this capital efficiency issue, such as\n",
            "Curve [ 3] and YieldSpace [ 4], have involved building pools that use\n",
            "different functions to describe the relation between reserves. This\n",
            "requires all liquidity providers in a given pool to adhere to a single\n",
            "formula, and could result in liquidity fragmentation if liquidity\n",
            "providers want to provide liquidity within different price ranges.In this paper, we present Uniswap v3 , a novel AMM that gives\n",
            "liquidity providers more control over the price ranges in which\n",
            "their capital is used, with limited effect on liquidity fragmentation\n",
            "and gas inefficiency. This design does not depend on any shared\n",
            "assumption about the price behavior of the tokens. Uniswap v3\n",
            "is based on the same constant product reserves curve as earlier\n",
            "versions [1], but offers several significant new features:\n",
            "•Concentrated Liquidity : Liquidity providers (LPs) are given\n",
            "the ability to concentrate their liquidity by “bounding\" it\n",
            "within an arbitrary price range. This improves the pool’s\n",
            "capital efficiency and allows LPs to approximate their pre-\n",
            "ferred reserves curve, while still being efficiently aggregated\n",
            "with the rest of the pool. We describe this feature in section\n",
            "2 and its implementation in Section 6.\n",
            "•Flexible Fees : The swap fee is no longer locked at 0.30%.\n",
            "Rather, the fee tier for each pool (of which there can be\n",
            "multiple per asset pair) is set on initialization (Section 3.1).\n",
            "The initially supported fee tiers are 0.05%,0.30%, and 1%.\n",
            "UNIgovernance is able to add additional values to this set.\n",
            "•Protocol Fee Governance :UNIgovernance has more flexibility\n",
            "in setting the fraction of swap fees collected by the protocol\n",
            "(Section 6.2.2).\n",
            "•Improved Price Oracle :Uniswap v3 provides a way for users\n",
            "to query recent price accumulator values, thus avoiding the\n",
            "need to checkpoint the accumulator value at the exact be-\n",
            "ginning and end of the period for which a TWAP is being\n",
            "measured. (Section 5.1).\n",
            "1Hayden Adams, Noah Zinsmeister, Moody Salem, River Keefer, and Dan Robinson\n",
            "•Liquidity Oracle : The contracts expose a time-weighted av-\n",
            "erage liquidity oracle (Section 5.3).\n",
            "TheUniswap v2 core contracts are non-upgradeable by de-\n",
            "sign, so Uniswap v3 is implemented as an entirely new set of\n",
            "contracts, available here. The Uniswap v3 core contracts are also\n",
            "non-upgradeable, with some parameters controlled by governance\n",
            "as described in Section 4.\n",
            "2 CONCENTRATED LIQUIDITY\n",
            "The defining idea of Uniswap v3 is that of concentrated liquidity :\n",
            "liquidity bounded within some price range.\n",
            "In earlier versions, liquidity was distributed uniformly along the\n",
            "𝑥·𝑦=𝑘 (2.1)\n",
            "reserves curve, where 𝑥and𝑦are the respective reserves of two\n",
            "InUniswap v1 andv2, every pair of tokens corresponds to a single\n",
            "liquidity pool, which applies a uniform fee of 0.30%to all swaps.\n",
            "While this default fee tier historically worked well enough for many\n",
            "tokens, it is likely too high for some pools (such as pools between\n",
            "two stablecoins), and too low for others (such as pools that include\n",
            "highly volatile or rarely traded tokens).\n",
            "Uniswap v3 introduces multiple pools for each pair of tokens,\n",
            "each with a different swap fee. All pools are created by the same\n",
            "factory contract. The factory contract initially allows pools to be\n",
            "created at three fee tiers: 0.05%,0.30%, and 1%. Additional fee tiers\n",
            "can be enabled by UNI governance.\n",
            "3.2 Non-Fungible Liquidity\n",
            "3.2.1 Non-Compounding Fees. Fees earned in earlier versions were\n",
            "continuously deposited in the pool as liquidity. This meant that\n",
            "liquidity in the pool would grow over time, even without explicit\n",
            "deposits, and that fee earnings compounded.\n",
            "InUniswap v3 , due to the non-fungible nature of positions, this\n",
            "is no longer possible. Instead, fee earnings are stored separately\n",
            "and held as the tokens in which the fees are paid (see Section 6.2.2).\n",
            "3.2.2 Removal of Native Liquidity Tokens. InUniswap v1 andv2,\n",
            "the pool contract is also an ERC-20 token contract, whose tokens\n",
            "represent liquidity held in the pool. While this is convenient, it\n",
            "actually sits uneasily with the Uniswap v2 philosophy that any-\n",
            "thing that does not need to be in the core contracts should be in the\n",
            "periphery, and blessing one “canonical\" ERC-20 implementation\n",
            "discourages the creation of improved ERC-20 token wrappers. Ar-\n",
            "guably, the ERC-20 token implementation should have been in the\n",
            "periphery, as a wrapper on a single liquidity position in the core\n",
            "contract.\n",
            "The changes made in Uniswap v3 force this issue by making\n",
            "completely fungible liquidity tokens impossible. Due to the custom\n",
            "liquidity provision feature, fees are now collected and held by thepool as individual tokens, rather than automatically reinvested as\n",
            "liquidity in the pool.\n",
            "As a result, in v3, the pool contract does not implement the\n",
            "ERC-20 standard. Anyone can create an ERC-20 token contract in\n",
            "the periphery that makes a liquidity position more fungible, but\n",
            "it will have to have additional logic to handle distribution of, or\n",
            "reinvestment of, collected fees. Alternatively, anyone could create\n",
            "a periphery contract that wraps an individual liquidity position\n",
            "(including collected fees) in an ERC-721 non-fungible token.\n",
            "4 GOVERNANCE\n",
            "The factory has an owner , which is initially controlled by UNI\n",
            "tokenholders.2The owner does not have the ability to halt the\n",
            "operation of any of the core contracts.\n",
            "As in Uniswap v2 ,Uniswap v3 has a protocol fee that can be\n",
            "turned on by UNI governance. In Uniswap v3 , UNI governance has\n",
            "more flexibility in choosing the fraction of swap fees that go to the\n",
            "protocol, and is able to choose any fraction1\n",
            "𝑁where 4≤𝑁≤10,\n",
            "or0. This parameter can be set on a per-pool basis.\n",
            "UNI governance also has the ability to add additional fee tiers.\n",
            "When it adds a new fee tier, it can also define the tickSpacing\n",
            "(see Section 6.1) corresponding to that fee tier. Once a fee tier is\n",
            "added to the factory, it cannot be removed (and the tickSpacing\n",
            "cannot be changed). The initial fee tiers and tick spacings supported\n",
            "are0.05%(with a tick spacing of 10, approximately 0.10%between\n",
            "initializable ticks), 0.30%(with a tick spacing of 60, approximately\n",
            "0.60%between initializable ticks), and 1%(with a tick spacing of\n",
            "200, approximately 2.02%between ticks.\n",
            "Finally, UNI governance has the power to transfer ownership to\n",
            "another address.\n",
            "5 ORACLE UPGRADES\n",
            "Uniswap v3 includes three significant changes to the time-weighted\n",
            "average price (TWAP) oracle that was introduced by Uniswap v2.\n",
            "Most significantly, Uniswap v3 removes the need for users of\n",
            "the oracle to track previous values of the accumulator externally.\n",
            "Uniswap v2 requires users to checkpoint the accumulator value\n",
            "\n",
            "\n",
            "\n",
            "--------------------------------------------------------------------------------\n",
            "\u001b[33massistant\u001b[0m (to RetrieveChatAgent):\n",
            "\n",
            "Uniswap v3 introduces several significant changes: \n",
            "1. Concentrated Liquidity: Liquidity providers can concentrate their liquidity within a specific price range, improving capital efficiency.\n",
            "2. Flexible Fees: The swap fee is no longer fixed at 0.30%. Fee tiers for each pool are set on initialization and can be 0.05%, 0.30%, and 1%.\n",
            "3. Protocol Fee Governance: UNI governance has more flexibility in setting the fraction of swap fees collected by the protocol.\n",
            "4. Improved Price Oracle: Uniswap v3 provides a way for users to query recent price accumulator values.\n",
            "5. Liquidity Oracle: The contracts expose a time-weighted average liquidity oracle.\n",
            "6. Non-Fungible Liquidity: Fee earnings are stored separately and held as the tokens in which the fees are paid. The pool contract does not implement the ERC-20 standard.\n",
            "7. Governance: UNI governance has more flexibility in choosing the fraction of swap fees that go to the protocol and can add additional fee tiers.\n",
            "\n",
            "--------------------------------------------------------------------------------\n"
          ]
        }
      ],
      "source": [
        "rag_assistant.reset()\n",
        "rag_agent.initiate_chat(\n",
        "    rag_assistant, \n",
        "    problem=\"What are the main changes in Uniswap version 3\", \n",
        "    n_results=2)"
      ]
    },
    {
      "cell_type": "code",
      "execution_count": null,
      "metadata": {},
      "outputs": [],
      "source": []
    }
  ],
  "metadata": {
    "colab": {
      "include_colab_link": true,
      "provenance": []
    },
    "kernelspec": {
      "display_name": "Python 3",
      "language": "python",
      "name": "python3"
    },
    "language_info": {
      "codemirror_mode": {
        "name": "ipython",
        "version": 3
      },
      "file_extension": ".py",
      "mimetype": "text/x-python",
      "name": "python",
      "nbconvert_exporter": "python",
      "pygments_lexer": "ipython3",
      "version": "3.8.17"
    },
    "vscode": {
      "interpreter": {
        "hash": "949777d72b0d2535278d3dc13498b2535136f6dfe0678499012e853ee9abcab1"
      }
    }
  },
  "nbformat": 4,
  "nbformat_minor": 0
}
